{
 "cells": [
  {
   "cell_type": "code",
   "execution_count": 1,
   "metadata": {},
   "outputs": [],
   "source": [
    "from urllib.request import urlopen\n",
    "from bs4 import BeautifulSoup"
   ]
  },
  {
   "cell_type": "code",
   "execution_count": 2,
   "metadata": {},
   "outputs": [],
   "source": [
    "html = urlopen(\"https://dorm.chungbuk.ac.kr/home/main.php\")\n",
    "\n",
    "bsObject = BeautifulSoup(html, \"html.parser\")"
   ]
  },
  {
   "cell_type": "code",
   "execution_count": 55,
   "metadata": {},
   "outputs": [],
   "source": [
    "test1 = bsObject.findAll('li', {'class':'tab1'})\n",
    "del test1[0]\n",
    "\n",
    "test2 = bsObject.findAll('li', {'class':'tab2'})\n",
    "del test2[0]\n",
    "\n",
    "test3 = bsObject.findAll('li', {'class':'tab3'})"
   ]
  },
  {
   "cell_type": "code",
   "execution_count": 51,
   "metadata": {},
   "outputs": [
    {
     "data": {
      "text/plain": [
       "[<li class=\"tab1 on\">\n",
       " <a class=\"tabBtn\" href=\"#\" onclick=\"return false;\">본관</a>\n",
       " <div class=\"tabContent\">\n",
       " <dl class=\"on\">\n",
       " <dt><button class=\"foodBtn\">아침</button></dt>\n",
       " <dd>\n",
       " <ul>\n",
       " <li>흰밥/우유(두유)/김치</li><li>물만두국</li><li>계란에부친동그랑땡</li><li>오이부추무침</li><li>에너지:782  Kcal</li><li>단백질:43  g</li><li>...</li> </ul>\n",
       " </dd>\n",
       " </dl>\n",
       " <dl>\n",
       " <dt><button class=\"foodBtn\">점심</button></dt>\n",
       " <dd style=\"display:none\">\n",
       " <ul>\n",
       " <li>흰밥/김치</li><li>얼큰북어국</li><li>망고소스탕수육</li><li>건파래무침</li><li>버섯발사믹샐러드</li><li>에너지:792  Kcal</li><li>...</li> </ul>\n",
       " </dd>\n",
       " </dl>\n",
       " <dl>\n",
       " <dt><button class=\"foodBtn\">저녁</button></dt>\n",
       " <dd style=\"display:none\">\n",
       " <ul>\n",
       " <li>크림스프</li><li>치즈스파게티</li><li>양상추황도샐러드</li><li>프렌치발사믹드레싱</li><li>오이피클/콜라</li><li>흰밥/김치</li><li>...</li> </ul>\n",
       " </dd>\n",
       " </dl>\n",
       " <a class=\"more\" href=\"sub.php?menukey=20041\">본관 식단 더보기</a>\n",
       " </div>\n",
       " </li>]"
      ]
     },
     "execution_count": 51,
     "metadata": {},
     "output_type": "execute_result"
    }
   ],
   "source": [
    "test1"
   ]
  },
  {
   "cell_type": "code",
   "execution_count": 52,
   "metadata": {},
   "outputs": [
    {
     "data": {
      "text/plain": [
       "[<li class=\"tab2\">\n",
       " <a class=\"tabBtn\" href=\"#\" onclick=\"return false;\">양성재</a>\n",
       " <div class=\"tabContent\" style=\"display:none\">\n",
       " <dl class=\"on\">\n",
       " <dt><button class=\"foodBtn\">아침</button></dt>\n",
       " <dd>\n",
       " <ul>\n",
       " <li>모닝빵*쨈\n",
       " </li><li>크림스프/쌀밥/김치\n",
       " </li><li>(쌀/배추:국내산/고춧가루:중국산)\n",
       " </li><li>만다린양상추샐러드\n",
       " </li><li>스크램블에그*케찹\n",
       " </li><li>씨리얼\n",
       " </li><li>...</li> </ul>\n",
       " </dd>\n",
       " </dl>\n",
       " <dl>\n",
       " <dt><button class=\"foodBtn\">점심</button></dt>\n",
       " <dd style=\"display:none\">\n",
       " <ul>\n",
       " <li>잡곡밥(쌀:국내산)\n",
       " </li><li>청양초된장찌개\n",
       " </li><li>(대두:외국산)\n",
       " </li><li>돈육콩나물불고기\n",
       " </li><li>(돈육:국내산)\n",
       " </li><li>파전/해물파전\n",
       " </li><li>...</li> </ul>\n",
       " </dd>\n",
       " </dl>\n",
       " <dl>\n",
       " <dt><button class=\"foodBtn\">저녁</button></dt>\n",
       " <dd style=\"display:none\">\n",
       " <ul>\n",
       " <li>쌀밥(쌀:국내산)\n",
       " </li><li>동태찌개\n",
       " </li><li>(동태:러시아산/대두:외국산)\n",
       " </li><li>소불고기잡채\n",
       " </li><li>(우육:호주산)\n",
       " </li><li>온두부(대두:외국산)/볶음김치\n",
       " </li><li>...</li> </ul>\n",
       " </dd>\n",
       " </dl>\n",
       " <a class=\"more\" href=\"sub.php?menukey=20041&amp;type=2\">양성재 식단 더보기</a>\n",
       " </div>\n",
       " </li>]"
      ]
     },
     "execution_count": 52,
     "metadata": {},
     "output_type": "execute_result"
    }
   ],
   "source": [
    "test2"
   ]
  },
  {
   "cell_type": "code",
   "execution_count": 56,
   "metadata": {},
   "outputs": [
    {
     "data": {
      "text/plain": [
       "[<li class=\"tab3\">\n",
       " <a class=\"tabBtn\" href=\"#\" onclick=\"return false;\">양진재</a>\n",
       " <div class=\"tabContent\" style=\"display:none\">\n",
       " <dl class=\"on\">\n",
       " <dt><button class=\"foodBtn\">아침</button></dt>\n",
       " <dd>\n",
       " <ul>\n",
       " <li>미니꿀호떡*소보로빵</li><li> 야채스프/쌀밥/김치</li><li> (쌀.배추:국내/고추가루:중국)</li><li> 마카로니콘샐러드</li><li> 스크램블에그*케찹</li><li> 과일</li><li>...</li> </ul>\n",
       " </dd>\n",
       " </dl>\n",
       " <dl>\n",
       " <dt><button class=\"foodBtn\">점심</button></dt>\n",
       " <dd style=\"display:none\">\n",
       " <ul>\n",
       " <li>잡곡밥(쌀:국내)</li><li> 뼈없는갈비탕</li><li> (우육:호주)</li><li> 호박부추전</li><li> 도토리묵야채무침</li><li> 깍두기</li><li>...</li> </ul>\n",
       " </dd>\n",
       " </dl>\n",
       " <dl>\n",
       " <dt><button class=\"foodBtn\">저녁</button></dt>\n",
       " <dd style=\"display:none\">\n",
       " <ul>\n",
       " <li>제육부추덮밥</li><li> (쌀.돈육:국내)</li><li> 시래기된장국</li><li> 크림파스타</li><li> (돈육:외국)</li><li> 오이무침</li><li>...</li> </ul>\n",
       " </dd>\n",
       " </dl>\n",
       " <a class=\"more\" href=\"sub.php?menukey=20041&amp;type=3\">양진재 식단 더보기</a>\n",
       " </div>\n",
       " </li>]"
      ]
     },
     "execution_count": 56,
     "metadata": {},
     "output_type": "execute_result"
    }
   ],
   "source": [
    "test3"
   ]
  },
  {
   "cell_type": "code",
   "execution_count": null,
   "metadata": {},
   "outputs": [],
   "source": []
  }
 ],
 "metadata": {
  "kernelspec": {
   "display_name": "Python 3",
   "language": "python",
   "name": "python3"
  },
  "language_info": {
   "codemirror_mode": {
    "name": "ipython",
    "version": 3
   },
   "file_extension": ".py",
   "mimetype": "text/x-python",
   "name": "python",
   "nbconvert_exporter": "python",
   "pygments_lexer": "ipython3",
   "version": "3.10.5 (tags/v3.10.5:f377153, Jun  6 2022, 16:14:13) [MSC v.1929 64 bit (AMD64)]"
  },
  "orig_nbformat": 4,
  "vscode": {
   "interpreter": {
    "hash": "88f5a4554b5a9ef949b5de2ca977b5a4bd361180c5b30f32147c76c2c5bcf452"
   }
  }
 },
 "nbformat": 4,
 "nbformat_minor": 2
}

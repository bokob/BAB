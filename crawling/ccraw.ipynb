{
 "cells": [
  {
   "cell_type": "code",
   "execution_count": 100,
   "metadata": {},
   "outputs": [],
   "source": [
    "from urllib.request import urlopen\n",
    "from bs4 import BeautifulSoup\n",
    "\n",
    "html = urlopen(\"https://dorm.chungbuk.ac.kr/home/sub.php?menukey=20041&type=3\")\n",
    "\n",
    "bsObject = BeautifulSoup(html, \"html.parser\")\n",
    "\n",
    "# bsObject.findAll('tbody')\n",
    "# print(bsObject)\n",
    "\n",
    "\n",
    "#bsObject.tbody.findAll('td')\n",
    "\n",
    "\n",
    "# for link in bsObject.find_all('tbody'):\n",
    "#     print(link.text.strip())"
   ]
  },
  {
   "cell_type": "code",
   "execution_count": null,
   "metadata": {},
   "outputs": [],
   "source": []
  },
  {
   "cell_type": "code",
   "execution_count": 101,
   "metadata": {},
   "outputs": [
    {
     "name": "stdout",
     "output_type": "stream",
     "text": [
      "['2023-01-08', '2023-01-09', '2023-01-10', '2023-01-11', '2023-01-12', '2023-01-13', '2023-01-14']\n"
     ]
    }
   ],
   "source": [
    "\n",
    "day_list=['일요일', '월요일','화요일','수요일','목요일','금요일','토요일']\n",
    "foodday = bsObject.findAll('td', {'class':{'foodday'}}) # 날짜 및 요일\n",
    "date=[]\n",
    "for day in foodday:\n",
    "    temp = list(map(str,day.text.split()))\n",
    "    date.append(temp[1])\n",
    "print(date)"
   ]
  },
  {
   "cell_type": "code",
   "execution_count": 102,
   "metadata": {},
   "outputs": [],
   "source": [
    "morning = bsObject.findAll('td', {'class':{'morning'}}) # 각 요일별 아침\n",
    "lunch = bsObject.findAll('td', {'class':{'lunch'}}) # 각 요일별 점심\n",
    "evening = bsObject.findAll('td', {'class':{'evening'}}) # 각 요일별 저녁"
   ]
  },
  {
   "cell_type": "code",
   "execution_count": 103,
   "metadata": {},
   "outputs": [
    {
     "name": "stdout",
     "output_type": "stream",
     "text": [
      "[' 잡곡밥(쌀:국내) 표고계란국 제육장조림 (돈육:국내) 숙주나물 깍두기 우유또는두유 670kcal/28g ', ' 잡곡밥(쌀:국내) 쇠고기미역국(우육:호주) 계란장조림 세발나물무침조미구이김 김치(배추:국내/고추가루:중국) 우유또는두유 654kcal/28g ', ' 쌀밥(쌀:국내) 부대햄김치찌개 (돈육.계육.배추:국내/고추가루:중국)잡채어묵굴소스볶음 시금치나물 깍두기 우유또는두유 662kcal/25g ', ' 햄치즈샌드위치 (돈육.계육:국내) 크림스프/쌀밥/김치 (쌀.배추:국내/고추가루:중국) 푸딩야채샐러드*드레싱 과일 씨리얼 우유또는두유 673kcal/26g ', ' 잡곡밥(쌀:국내) 쇠고기탕국(우육:호주) 런천미트구이 (돈육:외국.국내) 쥐어채무침 도시락김 볶음김치(배추.고추가루:중국) 우유또는두유 676kcal/28g ', ' 쌀밥(쌀:국내) 오징어무국(오징어:페루) 매콤돈사태조림 (돈육:국내) 얼갈이쌈장무침 김치(배추:국내/고추가루:중국) 우유또는두유 660kcal/30g ', ' 식빵*애플파이1개씩/잼 스프/쌀밥/김치 (쌀.배추:국내/고추가루:중국) 단호박범벅 스크램블에그*케찹 과일 씨리얼 우유또는두유 683kcal/28g ']\n"
     ]
    }
   ],
   "source": [
    "morning_list =[]\n",
    "for meal in morning:\n",
    "    morning_list.append(meal.text)\n",
    "print(morning_list)"
   ]
  },
  {
   "cell_type": "code",
   "execution_count": 107,
   "metadata": {},
   "outputs": [
    {
     "name": "stdout",
     "output_type": "stream",
     "text": [
      "[' 마크니커리덮밥 (쌀:국내) 팽이미소국 핫도그*케찹 황도야채샐러드*드레싱 김치(배추:국내/고추가루:중국) 878kcal/26g ', ' 쌀밥(쌀:국내) 설렁탕(뚝) (우사골.우잡뼈:한우/우육:호주) 해물완자전*케찹 (연육:외국) 두부두루치기 (대두:외국) 깍두기 857kcal/29g ', ' 산채비빔밥 (쌀:국내) 근대된장국 야채핫바*케찹 과일샐러드 봄동겉절이 (봄동:국내/고추가루:중국) 879kcal/25g ', ' 메밀국수 (다랑어:원양) 후리가케밥(쌀:국내) 미니마나두돈까스*케찹 발사믹두부샐러드 (대두:외국) 단무지 김치(배추:국내/고추가루:중국) 883kcal/29g ', ' 닭살야채볶음밥 (쌀.계육:국내) 계란파국 새우볼꼬치*칠리소스 토마토치커리무침 김치(배추:국내/고추가루:중국) 887kcal/29g ', ' 라면 쌀밥(소)(쌀:국내) 핫도그*케찹 단무지 김치(배추:국내/고추가루:중국) 889kcal/24g ', ' 떡갈비야채비빔밥 (쌀.돈육.우육.계육:국내) 팽이미소국 야채튀김 열대과일샐러드*드레싱 김치(배추:국내/고추가루:중국) 917kcal/28g ']\n"
     ]
    }
   ],
   "source": [
    "lunch_list =[]\n",
    "for meal in lunch:\n",
    "    lunch_list.append(meal.text)\n",
    "print(lunch_list)"
   ]
  },
  {
   "cell_type": "code",
   "execution_count": 108,
   "metadata": {},
   "outputs": [
    {
     "name": "stdout",
     "output_type": "stream",
     "text": [
      "[' 쌀밥(쌀:국내) 미니우동국(국) (다랑어:원양) 주꾸미오징어볶음 (오징어:페루/주꾸미:베트남) 야채계란찜 김치(배추:국내/고추가루:중국) 877kcal/30g', ' 스팸마요덮밥 (쌀:국내/돈육:외국) 콩나물국 국물떡볶이 김말이튀김 김치(배추:국내/고추가루:중국) 935ckal/25g', ' 잡곡밥(쌀:국내) 해물순두부찌개 (대두:외국/오징어:페루) 미트볼치즈그라탕 (돈육.계육:국내) 넙적감자볶음 도시락김 김치(배추:국내/고추가루:중국) 908kcal/27g', ' 쌀밥(쌀:국내) 대파육개장(뚝) (우육:호주) 갈치구이 (갈치:남아공) 떡갈비바베큐조림(돈육.계육:국내) 깍두기 871kcal/30g', ' 잡곡밥(쌀:국내) 시래기된장국 제육콩나물불고기 (돈육:국내) 맛대장어묵볶음 봄동겉절이 (봄동:국내/고추가루:중국) 855kcal/31g', ' 잡곡밥(쌀:국내) 부대햄김치찌개 (배추.고추가루:중국/돈육.계육:국내) 순대콩나물찜 두부구이*양념장 (대두:외국) 깍두기 886kcal/29g', ' 쌀밥(쌀:국내) 만두계란국 묵은지닭볶음탕 (계육:국내) 도토리묵*양념장 유채겉절이 875kcal/30g']\n"
     ]
    }
   ],
   "source": [
    "evening_list=[]\n",
    "for meal in evening:\n",
    "    evening_list.append(meal.text)\n",
    "print(evening_list)"
   ]
  },
  {
   "cell_type": "code",
   "execution_count": 109,
   "metadata": {},
   "outputs": [],
   "source": [
    "temp = [[],[],[],[],[],[],[]]\n",
    "for i in range(7):\n",
    "    temp[i].append(date[i])\n",
    "    temp[i].append(morning_list[i])\n",
    "    temp[i].append(lunch_list[i])\n",
    "    temp[i].append(evening_list[i])\n",
    "\n",
    "result = dict(zip(day_list, temp))"
   ]
  },
  {
   "cell_type": "code",
   "execution_count": 110,
   "metadata": {},
   "outputs": [
    {
     "data": {
      "text/plain": [
       "{'일요일': ['2023-01-08',\n",
       "  ' 잡곡밥(쌀:국내) 표고계란국 제육장조림 (돈육:국내) 숙주나물 깍두기 우유또는두유 670kcal/28g ',\n",
       "  ' 마크니커리덮밥 (쌀:국내) 팽이미소국 핫도그*케찹 황도야채샐러드*드레싱 김치(배추:국내/고추가루:중국) 878kcal/26g ',\n",
       "  ' 쌀밥(쌀:국내) 미니우동국(국) (다랑어:원양) 주꾸미오징어볶음 (오징어:페루/주꾸미:베트남) 야채계란찜 김치(배추:국내/고추가루:중국) 877kcal/30g'],\n",
       " '월요일': ['2023-01-09',\n",
       "  ' 잡곡밥(쌀:국내) 쇠고기미역국(우육:호주) 계란장조림 세발나물무침조미구이김 김치(배추:국내/고추가루:중국) 우유또는두유 654kcal/28g ',\n",
       "  ' 쌀밥(쌀:국내) 설렁탕(뚝) (우사골.우잡뼈:한우/우육:호주) 해물완자전*케찹 (연육:외국) 두부두루치기 (대두:외국) 깍두기 857kcal/29g ',\n",
       "  ' 스팸마요덮밥 (쌀:국내/돈육:외국) 콩나물국 국물떡볶이 김말이튀김 김치(배추:국내/고추가루:중국) 935ckal/25g'],\n",
       " '화요일': ['2023-01-10',\n",
       "  ' 쌀밥(쌀:국내) 부대햄김치찌개 (돈육.계육.배추:국내/고추가루:중국)잡채어묵굴소스볶음 시금치나물 깍두기 우유또는두유 662kcal/25g ',\n",
       "  ' 산채비빔밥 (쌀:국내) 근대된장국 야채핫바*케찹 과일샐러드 봄동겉절이 (봄동:국내/고추가루:중국) 879kcal/25g ',\n",
       "  ' 잡곡밥(쌀:국내) 해물순두부찌개 (대두:외국/오징어:페루) 미트볼치즈그라탕 (돈육.계육:국내) 넙적감자볶음 도시락김 김치(배추:국내/고추가루:중국) 908kcal/27g'],\n",
       " '수요일': ['2023-01-11',\n",
       "  ' 햄치즈샌드위치 (돈육.계육:국내) 크림스프/쌀밥/김치 (쌀.배추:국내/고추가루:중국) 푸딩야채샐러드*드레싱 과일 씨리얼 우유또는두유 673kcal/26g ',\n",
       "  ' 메밀국수 (다랑어:원양) 후리가케밥(쌀:국내) 미니마나두돈까스*케찹 발사믹두부샐러드 (대두:외국) 단무지 김치(배추:국내/고추가루:중국) 883kcal/29g ',\n",
       "  ' 쌀밥(쌀:국내) 대파육개장(뚝) (우육:호주) 갈치구이 (갈치:남아공) 떡갈비바베큐조림(돈육.계육:국내) 깍두기 871kcal/30g'],\n",
       " '목요일': ['2023-01-12',\n",
       "  ' 잡곡밥(쌀:국내) 쇠고기탕국(우육:호주) 런천미트구이 (돈육:외국.국내) 쥐어채무침 도시락김 볶음김치(배추.고추가루:중국) 우유또는두유 676kcal/28g ',\n",
       "  ' 닭살야채볶음밥 (쌀.계육:국내) 계란파국 새우볼꼬치*칠리소스 토마토치커리무침 김치(배추:국내/고추가루:중국) 887kcal/29g ',\n",
       "  ' 잡곡밥(쌀:국내) 시래기된장국 제육콩나물불고기 (돈육:국내) 맛대장어묵볶음 봄동겉절이 (봄동:국내/고추가루:중국) 855kcal/31g'],\n",
       " '금요일': ['2023-01-13',\n",
       "  ' 쌀밥(쌀:국내) 오징어무국(오징어:페루) 매콤돈사태조림 (돈육:국내) 얼갈이쌈장무침 김치(배추:국내/고추가루:중국) 우유또는두유 660kcal/30g ',\n",
       "  ' 라면 쌀밥(소)(쌀:국내) 핫도그*케찹 단무지 김치(배추:국내/고추가루:중국) 889kcal/24g ',\n",
       "  ' 잡곡밥(쌀:국내) 부대햄김치찌개 (배추.고추가루:중국/돈육.계육:국내) 순대콩나물찜 두부구이*양념장 (대두:외국) 깍두기 886kcal/29g'],\n",
       " '토요일': ['2023-01-14',\n",
       "  ' 식빵*애플파이1개씩/잼 스프/쌀밥/김치 (쌀.배추:국내/고추가루:중국) 단호박범벅 스크램블에그*케찹 과일 씨리얼 우유또는두유 683kcal/28g ',\n",
       "  ' 떡갈비야채비빔밥 (쌀.돈육.우육.계육:국내) 팽이미소국 야채튀김 열대과일샐러드*드레싱 김치(배추:국내/고추가루:중국) 917kcal/28g ',\n",
       "  ' 쌀밥(쌀:국내) 만두계란국 묵은지닭볶음탕 (계육:국내) 도토리묵*양념장 유채겉절이 875kcal/30g']}"
      ]
     },
     "execution_count": 110,
     "metadata": {},
     "output_type": "execute_result"
    }
   ],
   "source": [
    "result"
   ]
  },
  {
   "cell_type": "code",
   "execution_count": null,
   "metadata": {},
   "outputs": [],
   "source": [
    "########\n",
    "# 밑에는 최종 본"
   ]
  },
  {
   "cell_type": "code",
   "execution_count": 114,
   "metadata": {},
   "outputs": [],
   "source": [
    "from urllib.request import urlopen\n",
    "from bs4 import BeautifulSoup\n",
    "\n",
    "html = urlopen(\"https://dorm.chungbuk.ac.kr/home/sub.php?menukey=20041&type=3\")\n",
    "\n",
    "bsObject = BeautifulSoup(html, \"html.parser\")\n",
    "\n",
    "day_list=['일요일', '월요일','화요일','수요일','목요일','금요일','토요일'] # 요일 리스트\n",
    "\n",
    "def make_date_list(bsObject):\n",
    "    foodday = bsObject.findAll('td', {'class':{'foodday'}}) # 날짜 리스트 만들기\n",
    "    date_list=[]\n",
    "    for day in foodday:\n",
    "        temp = list(map(str,day.text.split()))\n",
    "        date_list.append(temp[1])\n",
    "    return date_list\n",
    "\n",
    "def make_morning_list(bsObject): # 각 요일별 아침 리스트 만들기\n",
    "    morning = bsObject.findAll('td', {'class':{'morning'}}) \n",
    "    morning_list =[]\n",
    "    for meal in morning:\n",
    "        morning_list.append(meal.text)\n",
    "    return morning_list\n",
    "\n",
    "def make_lunch_list(bsObject): # 각 요일별 점심 리스트 만들기\n",
    "    lunch = bsObject.findAll('td', {'class':{'lunch'}}) \n",
    "    lunch_list =[]\n",
    "    for meal in lunch:\n",
    "        lunch_list.append(meal.text)\n",
    "    return lunch_list\n",
    "\n",
    "def make_evening_list(bsObject): # 각 요일별 저녁 리스트 만들기\n",
    "    evening = bsObject.findAll('td', {'class':{'evening'}})\n",
    "    evening_list =[]\n",
    "    for meal in evening:\n",
    "        evening_list.append(meal.text)\n",
    "    return evening_list\n",
    "\n",
    "def merge_day_meal(date_list, morning_list, lunch_list, evening_list): # 각 요일별 리스트 병합\n",
    "    day_meal = [[],[],[],[],[],[],[]]\n",
    "    for i in range(7):\n",
    "        day_meal[i].append(date_list[i])\n",
    "        day_meal[i].append(morning_list[i])\n",
    "        day_meal[i].append(lunch_list[i])\n",
    "        day_meal[i].append(evening_list[i])\n",
    "    return day_meal\n",
    "    \n",
    "def get_weak_meal(day_list, day_meal):  # 주간 식단표 딕셔너리 만들기\n",
    "    weak_meal=dict(zip(day_list,day_meal))\n",
    "    return weak_meal\n",
    "\n",
    "date_list = make_date_list(bsObject)\n",
    "morning_list=make_morning_list(bsObject)\n",
    "lunch_list = make_lunch_list(bsObject)\n",
    "evening_list=make_evening_list(bsObject)\n",
    "day_meal = merge_day_meal(date_list,morning_list,lunch_list,evening_list)\n",
    "weak_meal=get_weak_meal(day_list,day_meal)"
   ]
  },
  {
   "cell_type": "code",
   "execution_count": 115,
   "metadata": {},
   "outputs": [
    {
     "data": {
      "text/plain": [
       "{'일요일': ['2023-01-08',\n",
       "  ' 잡곡밥(쌀:국내) 표고계란국 제육장조림 (돈육:국내) 숙주나물 깍두기 우유또는두유 670kcal/28g ',\n",
       "  ' 마크니커리덮밥 (쌀:국내) 팽이미소국 핫도그*케찹 황도야채샐러드*드레싱 김치(배추:국내/고추가루:중국) 878kcal/26g ',\n",
       "  ' 쌀밥(쌀:국내) 미니우동국(국) (다랑어:원양) 주꾸미오징어볶음 (오징어:페루/주꾸미:베트남) 야채계란찜 김치(배추:국내/고추가루:중국) 877kcal/30g'],\n",
       " '월요일': ['2023-01-09',\n",
       "  ' 잡곡밥(쌀:국내) 쇠고기미역국(우육:호주) 계란장조림 세발나물무침조미구이김 김치(배추:국내/고추가루:중국) 우유또는두유 654kcal/28g ',\n",
       "  ' 쌀밥(쌀:국내) 설렁탕(뚝) (우사골.우잡뼈:한우/우육:호주) 해물완자전*케찹 (연육:외국) 두부두루치기 (대두:외국) 깍두기 857kcal/29g ',\n",
       "  ' 스팸마요덮밥 (쌀:국내/돈육:외국) 콩나물국 국물떡볶이 김말이튀김 김치(배추:국내/고추가루:중국) 935ckal/25g'],\n",
       " '화요일': ['2023-01-10',\n",
       "  ' 쌀밥(쌀:국내) 부대햄김치찌개 (돈육.계육.배추:국내/고추가루:중국)잡채어묵굴소스볶음 시금치나물 깍두기 우유또는두유 662kcal/25g ',\n",
       "  ' 산채비빔밥 (쌀:국내) 근대된장국 야채핫바*케찹 과일샐러드 봄동겉절이 (봄동:국내/고추가루:중국) 879kcal/25g ',\n",
       "  ' 잡곡밥(쌀:국내) 해물순두부찌개 (대두:외국/오징어:페루) 미트볼치즈그라탕 (돈육.계육:국내) 넙적감자볶음 도시락김 김치(배추:국내/고추가루:중국) 908kcal/27g'],\n",
       " '수요일': ['2023-01-11',\n",
       "  ' 햄치즈샌드위치 (돈육.계육:국내) 크림스프/쌀밥/김치 (쌀.배추:국내/고추가루:중국) 푸딩야채샐러드*드레싱 과일 씨리얼 우유또는두유 673kcal/26g ',\n",
       "  ' 메밀국수 (다랑어:원양) 후리가케밥(쌀:국내) 미니마나두돈까스*케찹 발사믹두부샐러드 (대두:외국) 단무지 김치(배추:국내/고추가루:중국) 883kcal/29g ',\n",
       "  ' 쌀밥(쌀:국내) 대파육개장(뚝) (우육:호주) 갈치구이 (갈치:남아공) 떡갈비바베큐조림(돈육.계육:국내) 깍두기 871kcal/30g'],\n",
       " '목요일': ['2023-01-12',\n",
       "  ' 잡곡밥(쌀:국내) 쇠고기탕국(우육:호주) 런천미트구이 (돈육:외국.국내) 쥐어채무침 도시락김 볶음김치(배추.고추가루:중국) 우유또는두유 676kcal/28g ',\n",
       "  ' 닭살야채볶음밥 (쌀.계육:국내) 계란파국 새우볼꼬치*칠리소스 토마토치커리무침 김치(배추:국내/고추가루:중국) 887kcal/29g ',\n",
       "  ' 잡곡밥(쌀:국내) 시래기된장국 제육콩나물불고기 (돈육:국내) 맛대장어묵볶음 봄동겉절이 (봄동:국내/고추가루:중국) 855kcal/31g'],\n",
       " '금요일': ['2023-01-13',\n",
       "  ' 쌀밥(쌀:국내) 오징어무국(오징어:페루) 매콤돈사태조림 (돈육:국내) 얼갈이쌈장무침 김치(배추:국내/고추가루:중국) 우유또는두유 660kcal/30g ',\n",
       "  ' 라면 쌀밥(소)(쌀:국내) 핫도그*케찹 단무지 김치(배추:국내/고추가루:중국) 889kcal/24g ',\n",
       "  ' 잡곡밥(쌀:국내) 부대햄김치찌개 (배추.고추가루:중국/돈육.계육:국내) 순대콩나물찜 두부구이*양념장 (대두:외국) 깍두기 886kcal/29g'],\n",
       " '토요일': ['2023-01-14',\n",
       "  ' 식빵*애플파이1개씩/잼 스프/쌀밥/김치 (쌀.배추:국내/고추가루:중국) 단호박범벅 스크램블에그*케찹 과일 씨리얼 우유또는두유 683kcal/28g ',\n",
       "  ' 떡갈비야채비빔밥 (쌀.돈육.우육.계육:국내) 팽이미소국 야채튀김 열대과일샐러드*드레싱 김치(배추:국내/고추가루:중국) 917kcal/28g ',\n",
       "  ' 쌀밥(쌀:국내) 만두계란국 묵은지닭볶음탕 (계육:국내) 도토리묵*양념장 유채겉절이 875kcal/30g']}"
      ]
     },
     "execution_count": 115,
     "metadata": {},
     "output_type": "execute_result"
    }
   ],
   "source": [
    "weak_meal"
   ]
  },
  {
   "cell_type": "code",
   "execution_count": null,
   "metadata": {},
   "outputs": [],
   "source": []
  }
 ],
 "metadata": {
  "kernelspec": {
   "display_name": "Python 3",
   "language": "python",
   "name": "python3"
  },
  "language_info": {
   "codemirror_mode": {
    "name": "ipython",
    "version": 3
   },
   "file_extension": ".py",
   "mimetype": "text/x-python",
   "name": "python",
   "nbconvert_exporter": "python",
   "pygments_lexer": "ipython3",
   "version": "3.10.5"
  },
  "orig_nbformat": 4,
  "vscode": {
   "interpreter": {
    "hash": "88f5a4554b5a9ef949b5de2ca977b5a4bd361180c5b30f32147c76c2c5bcf452"
   }
  }
 },
 "nbformat": 4,
 "nbformat_minor": 2
}

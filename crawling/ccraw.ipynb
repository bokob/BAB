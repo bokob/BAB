{
 "cells": [
  {
   "cell_type": "code",
   "execution_count": 10,
   "metadata": {},
   "outputs": [],
   "source": [
    "# 양진재 금주\n",
    "\n",
    "from urllib.request import urlopen\n",
    "from bs4 import BeautifulSoup\n",
    "import datetime\n",
    "\n",
    "html = urlopen(\"https://dorm.chungbuk.ac.kr/home/sub.php?menukey=20041&type=3\")\n",
    "\n",
    "bsObject = BeautifulSoup(html, \"html.parser\")\n",
    "\n",
    "# bsObject.findAll('tbody')\n",
    "# print(bsObject)\n",
    "\n",
    "\n",
    "#bsObject.tbody.findAll('td')\n",
    "\n",
    "\n",
    "# for link in bsObject.find_all('tbody'):\n",
    "#     print(link.text.strip())"
   ]
  },
  {
   "cell_type": "code",
   "execution_count": 23,
   "metadata": {},
   "outputs": [
    {
     "name": "stdout",
     "output_type": "stream",
     "text": [
      "['2023-01-25', '2023-01-26', '2023-01-27', '2023-01-28']\n",
      "['수요일', '목요일', '금요일', '토요일']\n"
     ]
    }
   ],
   "source": [
    "\n",
    "foodday = bsObject.findAll('td', {'class':{'foodday'}}) # 날짜 및 요일\n",
    "date=[]\n",
    "for day in foodday:\n",
    "    temp = list(map(str,day.text.split()))\n",
    "    date.append(temp[1])\n",
    "print(date)\n",
    "\n",
    "split_date_list=[]\n",
    "for element in date:\n",
    "    temp = list(map(int,element.split('-')))\n",
    "    split_date_list.append(temp)\n",
    "\n",
    "def make_day_list_matches_date(split_date_list):\n",
    "    days=['월요일', '화요일', '수요일', '목요일', '금요일', '토요일', '일요일']\n",
    "    result=[]\n",
    "    for element in split_date_list:\n",
    "        result.append(days[datetime.date(element[0],element[1],element[2]).weekday()])\n",
    "    return result\n",
    "\n",
    "day_list = make_day_list_matches_date(split_date_list)\n",
    "print(day_list)"
   ]
  },
  {
   "cell_type": "code",
   "execution_count": 24,
   "metadata": {},
   "outputs": [],
   "source": [
    "morning = bsObject.findAll('td', {'class':{'morning'}}) # 각 요일별 아침\n",
    "lunch = bsObject.findAll('td', {'class':{'lunch'}}) # 각 요일별 점심\n",
    "evening = bsObject.findAll('td', {'class':{'evening'}}) # 각 요일별 저녁"
   ]
  },
  {
   "cell_type": "code",
   "execution_count": 25,
   "metadata": {},
   "outputs": [
    {
     "name": "stdout",
     "output_type": "stream",
     "text": [
      "[' 미니꿀호떡*소보로빵 야채스프/쌀밥/김치 (쌀.배추:국내/고추가루:중국) 마카로니콘샐러드 스크램블에그*케찹 과일 씨리얼 우유또는두유 657kcal/28g ', ' 잡곡밥(쌀:국내) 부대찌개(대두:외국/ 배추.고추가루:중국/돈육.계육:국내) 돈사태고구마조림 (돈육:국내) 봄동된장나물 깍두기 우유또는두유 680kcal/29g ', ' 쌀밥(쌀:국내) 우거지국(우육:호주) 김계란말이*케찹 가지양파볶음 김치(배추:국내/고추가루:중국) 우유또는두유 646kcal/29g ', ' 소보로빵 단호박죽/쌀밥/김치 (쌀.배추:국내/고추가루:중국) 그린샐러드*드레싱 스크램블에그*케찹 과일 씨리얼 우유또는두유 689kcal/29g ']\n"
     ]
    }
   ],
   "source": [
    "morning_list =[]\n",
    "for meal in morning:\n",
    "    morning_list.append(meal.text)\n",
    "print(morning_list)"
   ]
  },
  {
   "cell_type": "code",
   "execution_count": 26,
   "metadata": {},
   "outputs": [
    {
     "name": "stdout",
     "output_type": "stream",
     "text": [
      "[' 잡곡밥(쌀:국내) 뼈없는갈비탕 (우육:호주) 호박부추전 도토리묵야채무침 깍두기 856kcal/27g ', ' 김가루밥*참치마요 (쌀:국내/다랑어:원양) 콩나물국 돈까스*소스 (돈육:국내) 열대과일샐러드*드레싱 김치(배추:국내/고추가루:중국) 893kcal/30g ', ' 짜장면 (돈육:국내) 쌀밥(소)(쌀:국내) 파채깐풍기 (계육:국내) 단무지 김치(배추:국내/고추가루:중국) 요구르트 923kcal/27g ', ' 야채볶음밥 (쌀:국내) 유부장국 함박스테이크조림 (우육.돈육.계육:국내) 치커리무침 김치(배추:국내/고추가루:중국) 904kcal/28g ']\n"
     ]
    }
   ],
   "source": [
    "lunch_list =[]\n",
    "for meal in lunch:\n",
    "    lunch_list.append(meal.text)\n",
    "print(lunch_list)"
   ]
  },
  {
   "cell_type": "code",
   "execution_count": 27,
   "metadata": {},
   "outputs": [
    {
     "name": "stdout",
     "output_type": "stream",
     "text": [
      "[' 제육부추덮밥 (쌀.돈육:국내) 시래기된장국 크림파스타 (돈육:외국) 오이무침 김치(배추:국내/고추가루:중국) 880kcal/29g', ' 쌀밥(쌀:국내) 홍합무국 카레닭갈비 (닭다리살:브라질) 청포묵김가루무침 얼갈이겉절이 (얼갈이:국내/고추가루:중국) 894kcal/31g', ' 잡곡밥(쌀:국내) 닭곰탕(뚝) (통닭:국내) 고등어구이 (고등어:국내) 비엔나야채볶음 (돈육.계육:국내) 깍두기 875kcal/29g', ' 쌀밥(쌀:국내) 미역국 돈육김치두루치기 (돈육.배추:국내/고추가루:중국) 두부구이 (대두:외국) 콩나물무침 880kcal/33g']\n"
     ]
    }
   ],
   "source": [
    "evening_list=[]\n",
    "for meal in evening:\n",
    "    evening_list.append(meal.text)\n",
    "print(evening_list)"
   ]
  },
  {
   "cell_type": "code",
   "execution_count": 28,
   "metadata": {},
   "outputs": [],
   "source": [
    "temp = [[],[],[],[],[],[],[]]\n",
    "for i in range(len(date)):\n",
    "    temp[i].append(date[i])\n",
    "    temp[i].append(morning_list[i])\n",
    "    temp[i].append(lunch_list[i])\n",
    "    temp[i].append(evening_list[i])\n",
    "\n",
    "result = dict(zip(day_list, temp))"
   ]
  },
  {
   "cell_type": "code",
   "execution_count": 29,
   "metadata": {},
   "outputs": [
    {
     "data": {
      "text/plain": [
       "{'수요일': ['2023-01-25',\n",
       "  ' 미니꿀호떡*소보로빵 야채스프/쌀밥/김치 (쌀.배추:국내/고추가루:중국) 마카로니콘샐러드 스크램블에그*케찹 과일 씨리얼 우유또는두유 657kcal/28g ',\n",
       "  ' 잡곡밥(쌀:국내) 뼈없는갈비탕 (우육:호주) 호박부추전 도토리묵야채무침 깍두기 856kcal/27g ',\n",
       "  ' 제육부추덮밥 (쌀.돈육:국내) 시래기된장국 크림파스타 (돈육:외국) 오이무침 김치(배추:국내/고추가루:중국) 880kcal/29g'],\n",
       " '목요일': ['2023-01-26',\n",
       "  ' 잡곡밥(쌀:국내) 부대찌개(대두:외국/ 배추.고추가루:중국/돈육.계육:국내) 돈사태고구마조림 (돈육:국내) 봄동된장나물 깍두기 우유또는두유 680kcal/29g ',\n",
       "  ' 김가루밥*참치마요 (쌀:국내/다랑어:원양) 콩나물국 돈까스*소스 (돈육:국내) 열대과일샐러드*드레싱 김치(배추:국내/고추가루:중국) 893kcal/30g ',\n",
       "  ' 쌀밥(쌀:국내) 홍합무국 카레닭갈비 (닭다리살:브라질) 청포묵김가루무침 얼갈이겉절이 (얼갈이:국내/고추가루:중국) 894kcal/31g'],\n",
       " '금요일': ['2023-01-27',\n",
       "  ' 쌀밥(쌀:국내) 우거지국(우육:호주) 김계란말이*케찹 가지양파볶음 김치(배추:국내/고추가루:중국) 우유또는두유 646kcal/29g ',\n",
       "  ' 짜장면 (돈육:국내) 쌀밥(소)(쌀:국내) 파채깐풍기 (계육:국내) 단무지 김치(배추:국내/고추가루:중국) 요구르트 923kcal/27g ',\n",
       "  ' 잡곡밥(쌀:국내) 닭곰탕(뚝) (통닭:국내) 고등어구이 (고등어:국내) 비엔나야채볶음 (돈육.계육:국내) 깍두기 875kcal/29g'],\n",
       " '토요일': ['2023-01-28',\n",
       "  ' 소보로빵 단호박죽/쌀밥/김치 (쌀.배추:국내/고추가루:중국) 그린샐러드*드레싱 스크램블에그*케찹 과일 씨리얼 우유또는두유 689kcal/29g ',\n",
       "  ' 야채볶음밥 (쌀:국내) 유부장국 함박스테이크조림 (우육.돈육.계육:국내) 치커리무침 김치(배추:국내/고추가루:중국) 904kcal/28g ',\n",
       "  ' 쌀밥(쌀:국내) 미역국 돈육김치두루치기 (돈육.배추:국내/고추가루:중국) 두부구이 (대두:외국) 콩나물무침 880kcal/33g']}"
      ]
     },
     "execution_count": 29,
     "metadata": {},
     "output_type": "execute_result"
    }
   ],
   "source": [
    "result"
   ]
  },
  {
   "cell_type": "code",
   "execution_count": 25,
   "metadata": {},
   "outputs": [],
   "source": [
    "########\n",
    "# 밑에는 최종 본"
   ]
  },
  {
   "cell_type": "code",
   "execution_count": 19,
   "metadata": {},
   "outputs": [],
   "source": [
    "from urllib.request import urlopen\n",
    "from bs4 import BeautifulSoup\n",
    "import datetime\n",
    "\n",
    "html1 = urlopen(\"https://dorm.chungbuk.ac.kr/home/sub.php?menukey=20041&type=1\") # 본관\n",
    "html2 = urlopen(\"https://dorm.chungbuk.ac.kr/home/sub.php?menukey=20041&type=2\") # 양성재\n",
    "html3 = urlopen(\"https://dorm.chungbuk.ac.kr/home/sub.php?menukey=20041&type=3\") # 양진재\n",
    "\n",
    "bsObject1 = BeautifulSoup(html1, \"html.parser\")\n",
    "bsObject2 = BeautifulSoup(html2, \"html.parser\")\n",
    "bsObject3 = BeautifulSoup(html3, \"html.parser\")\n",
    "bsObject=[bsObject1,bsObject2,bsObject3]\n",
    "\n",
    "def make_date_list(bsObject): # 날짜 리스트 만들기\n",
    "    foodday = bsObject.findAll('td', {'class':{'foodday'}}) # 날짜 및 요일\n",
    "    date=[]\n",
    "    for day in foodday:\n",
    "        temp = list(map(str,day.text.split()))\n",
    "        date.append(temp[1])\n",
    "    return date\n",
    "\n",
    "def make_day_list_matches_date(date_list): # 요일 리스트 만들기\n",
    "    \n",
    "    split_date_list=[]  # '-' 기준으로 split\n",
    "    for element in date_list:\n",
    "        temp = list(map(int,element.split('-')))\n",
    "        split_date_list.append(temp)\n",
    "    \n",
    "    days=['월요일', '화요일', '수요일', '목요일', '금요일', '토요일', '일요일'] \n",
    "    result=[]\n",
    "    for element in split_date_list: # 요일 알아낸다.\n",
    "        result.append(days[datetime.date(element[0],element[1],element[2]).weekday()])\n",
    "    return result\n",
    "\n",
    "def make_morning_list(bsObject): # 각 요일별 아침 리스트 만들기\n",
    "    morning = bsObject.findAll('td', {'class':{'morning'}}) \n",
    "    morning_list =[]\n",
    "    for meal in morning:\n",
    "        morning_list.append(meal.text)\n",
    "    return morning_list\n",
    "\n",
    "def make_lunch_list(bsObject): # 각 요일별 점심 리스트 만들기\n",
    "    lunch = bsObject.findAll('td', {'class':{'lunch'}}) \n",
    "    lunch_list =[]\n",
    "    for meal in lunch:\n",
    "        lunch_list.append(meal.text)\n",
    "    return lunch_list\n",
    "\n",
    "def make_evening_list(bsObject): # 각 요일별 저녁 리스트 만들기\n",
    "    evening = bsObject.findAll('td', {'class':{'evening'}})\n",
    "    evening_list =[]\n",
    "    for meal in evening:\n",
    "        evening_list.append(meal.text)\n",
    "    return evening_list\n",
    "\n",
    "def merge_day_meal(date_list, morning_list, lunch_list, evening_list): # 각 요일별 식단 리스트 병합\n",
    "    day_meal = [[],[],[],[],[],[],[]]\n",
    "    for i in range(len(date_list)):\n",
    "        day_meal[i].append(date_list[i])\n",
    "        day_meal[i].append(morning_list[i])\n",
    "        day_meal[i].append(lunch_list[i])\n",
    "        day_meal[i].append(evening_list[i])\n",
    "    return day_meal\n",
    "    \n",
    "def get_weak_meal(day_list, day_meal):  # 주간 식단표 딕셔너리 만들기\n",
    "    weak_meal=dict(zip(day_list,day_meal))\n",
    "    return weak_meal\n",
    "\n",
    "this_week=[]\n",
    "for i in range(3):\n",
    "    date_list = make_date_list(bsObject[i])\n",
    "    day_list = make_day_list_matches_date(date_list)\n",
    "    morning_list=make_morning_list(bsObject[i])\n",
    "    lunch_list = make_lunch_list(bsObject[i])\n",
    "    evening_list=make_evening_list(bsObject[i])\n",
    "    day_meal = merge_day_meal(date_list,morning_list,lunch_list,evening_list)\n",
    "    weak_meal=get_weak_meal(day_list,day_meal)\n",
    "    this_week.append(weak_meal)"
   ]
  },
  {
   "cell_type": "code",
   "execution_count": null,
   "metadata": {},
   "outputs": [],
   "source": []
  }
 ],
 "metadata": {
  "kernelspec": {
   "display_name": "Python 3",
   "language": "python",
   "name": "python3"
  },
  "language_info": {
   "codemirror_mode": {
    "name": "ipython",
    "version": 3
   },
   "file_extension": ".py",
   "mimetype": "text/x-python",
   "name": "python",
   "nbconvert_exporter": "python",
   "pygments_lexer": "ipython3",
   "version": "3.10.5"
  },
  "orig_nbformat": 4,
  "vscode": {
   "interpreter": {
    "hash": "88f5a4554b5a9ef949b5de2ca977b5a4bd361180c5b30f32147c76c2c5bcf452"
   }
  }
 },
 "nbformat": 4,
 "nbformat_minor": 2
}

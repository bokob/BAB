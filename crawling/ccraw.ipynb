{
 "cells": [
  {
   "cell_type": "code",
   "execution_count": 109,
   "metadata": {},
   "outputs": [],
   "source": [
    "from urllib.request import urlopen\n",
    "from bs4 import BeautifulSoup\n",
    "# from datetime import datetime, timedelta, date\n",
    "from datetime import datetime, timedelta, date\n",
    "import calendar\n",
    "\n",
    "html = urlopen(\"https://dorm.chungbuk.ac.kr/home/sub.php?menukey=20041&type=2\")\n",
    "\n",
    "bsObject = BeautifulSoup(html, \"html.parser\")\n",
    "\n",
    "# bsObject.findAll('tbody')\n",
    "# print(bsObject)\n",
    "\n",
    "\n",
    "#bsObject.tbody.findAll('td')\n",
    "\n",
    "\n",
    "# for link in bsObject.find_all('tbody'):\n",
    "#     print(link.text.strip())"
   ]
  },
  {
   "cell_type": "code",
   "execution_count": 110,
   "metadata": {},
   "outputs": [
    {
     "name": "stdout",
     "output_type": "stream",
     "text": [
      "['2023-01-25', '2023-01-26', '2023-01-27', '2023-01-28']\n",
      "[[2023, 1, 25], [2023, 1, 26], [2023, 1, 27], [2023, 1, 28]]\n",
      "['수요일', '목요일', '금요일', '토요일']\n"
     ]
    }
   ],
   "source": [
    "foodday = bsObject.findAll('td', {'class':{'foodday'}}) # 날짜 및 요일\n",
    "date_list=[]\n",
    "for day in foodday:\n",
    "    temp = list(map(str,day.text.split()))\n",
    "    date_list.append(temp[1])\n",
    "print(date_list)\n",
    "\n",
    "split_date_list=[]\n",
    "for element in date_list:\n",
    "    temp = list(map(int,element.split('-')))\n",
    "    split_date_list.append(temp)\n",
    "\n",
    "print(split_date_list)\n",
    "    \n",
    "\n",
    "def make_day_list_matches_date(split_date_list):\n",
    "    days=['월요일', '화요일', '수요일', '목요일', '금요일', '토요일', '일요일']\n",
    "    result=[]\n",
    "    for element in split_date_list:\n",
    "        result.append(days[date(element[0],element[1],element[2]).weekday()])\n",
    "    return result\n",
    "\n",
    "day_list = make_day_list_matches_date(split_date_list)\n",
    "print(day_list)"
   ]
  },
  {
   "cell_type": "code",
   "execution_count": 111,
   "metadata": {},
   "outputs": [
    {
     "name": "stdout",
     "output_type": "stream",
     "text": [
      "['2023-01-25', '2023-01-26', '2023-01-27', '2023-01-28']\n"
     ]
    }
   ],
   "source": [
    "\n",
    "day_list=['일요일', '월요일','화요일','수요일','목요일','금요일','토요일']\n",
    "foodday = bsObject.findAll('td', {'class':{'foodday'}}) # 날짜 및 요일\n",
    "date=[]\n",
    "for day in foodday:\n",
    "    temp = list(map(str,day.text.split()))\n",
    "    date.append(temp[1])\n",
    "print(date)"
   ]
  },
  {
   "cell_type": "code",
   "execution_count": 112,
   "metadata": {},
   "outputs": [],
   "source": [
    "morning = bsObject.findAll('td', {'class':{'morning'}}) # 각 요일별 아침\n",
    "lunch = bsObject.findAll('td', {'class':{'lunch'}}) # 각 요일별 점심\n",
    "evening = bsObject.findAll('td', {'class':{'evening'}}) # 각 요일별 저녁"
   ]
  },
  {
   "cell_type": "code",
   "execution_count": 113,
   "metadata": {},
   "outputs": [
    {
     "name": "stdout",
     "output_type": "stream",
     "text": [
      " 모닝빵*쨈\n",
      "크림스프/쌀밥/김치\n",
      "(쌀/배추:국내산/고춧가루:중국산)\n",
      "만다린양상추샐러드\n",
      "스크램블에그*케찹\n",
      "씨리얼\n",
      "바나나\n",
      "우유 또는 두유\n",
      "710kcal/26g \n"
     ]
    }
   ],
   "source": [
    "morning_list =[]\n",
    "for meal in morning:\n",
    "    morning_list.append(meal.text)\n",
    "print(morning_list[0])"
   ]
  },
  {
   "cell_type": "code",
   "execution_count": 114,
   "metadata": {},
   "outputs": [
    {
     "name": "stdout",
     "output_type": "stream",
     "text": [
      "[' 잡곡밥(쌀:국내산)\\n청양초된장찌개\\n(대두:외국산)\\n돈육콩나물불고기\\n(돈육:국내산)\\n파전/해물파전\\n김치\\n(배추:국내산/고춧가루:중국산)\\n855kcal/27g ', ' 쌀밥(쌀:국내산)\\n참치감자찌개\\n(다랑어:태평양산)\\n닭간장불고기(계육:브라질산)\\n스모크햄전&amp;케찹\\n(돈육/계육:국내산)\\n김치\\n(배추:국내산/고춧가루:중국산)\\n862kcal/26g ', ' 차오판(대만식볶음밥)\\n(쌀/돈육:국내산)\\n양지쌀국수(양지:호주산)\\n춘권튀김\\n치커리유자청무침\\n김치\\n(배추:국내산/고춧가루:중국산)\\n871kcal/26g ', ' 산채들기름볶음밥\\n(쌀:국내산)\\n시래기된장국\\n언양식불고기전\\n(돈육;국내산)\\n팽이부추겨자채\\n배추겉절이\\n(배추:국내산/고춧가루:중국산)\\n819kcal/26g ']\n"
     ]
    }
   ],
   "source": [
    "lunch_list =[]\n",
    "for meal in lunch:\n",
    "    lunch_list.append(meal.text)\n",
    "print(lunch_list)"
   ]
  },
  {
   "cell_type": "code",
   "execution_count": 115,
   "metadata": {},
   "outputs": [
    {
     "name": "stdout",
     "output_type": "stream",
     "text": [
      "[' 쌀밥(쌀:국내산)\\n동태찌개\\n(동태:러시아산/대두:외국산)\\n소불고기잡채\\n(우육:호주산)\\n온두부(대두:외국산)/볶음김치\\n(배추:국내산/고춧가루:중국산)\\n파래김*초간장\\n861kcal/36g', ' 잡곡밥(쌀:국내산)\\n콩나물국\\n오징어당면볶음\\n(오징어:페루산)\\n청포묵야채무침\\n(우육:호주산)\\n배추겉절이\\n(배추:국내산/고춧가루:중국산)\\n854kcal/26g', ' 하이라이스\\n(쌀/돈육:국내산)\\n가쓰오장국\\n(다랑어:인도네시아)\\n치킨까스/어니언소스\\n(계육:국내산)\\n실곤약야채무침\\n미니깍두기\\n857kcal/27g', ' 쌀밥(쌀:국내산)\\n청국장찌개(대두:외국산)\\n(배추:국내산/고춧가루:중국산)\\n고등어무조림\\n(고등어:국내산)\\n야채계란말이*케찹\\n김치\\n(배추:국내산/고춧가루:중국산)\\n836kcal/31g']\n"
     ]
    }
   ],
   "source": [
    "evening_list=[]\n",
    "for meal in evening:\n",
    "    evening_list.append(meal.text)\n",
    "print(evening_list)"
   ]
  },
  {
   "cell_type": "code",
   "execution_count": 116,
   "metadata": {},
   "outputs": [],
   "source": [
    "temp = [[],[],[],[],[],[],[]]\n",
    "for i in range(len(date)):\n",
    "    temp[i].append(date[i])\n",
    "    temp[i].append(morning_list[i])\n",
    "    temp[i].append(lunch_list[i])\n",
    "    temp[i].append(evening_list[i])\n",
    "\n",
    "result = dict(zip(day_list, temp))"
   ]
  },
  {
   "cell_type": "code",
   "execution_count": 117,
   "metadata": {},
   "outputs": [
    {
     "data": {
      "text/plain": [
       "{'일요일': ['2023-01-25',\n",
       "  ' 모닝빵*쨈\\n크림스프/쌀밥/김치\\n(쌀/배추:국내산/고춧가루:중국산)\\n만다린양상추샐러드\\n스크램블에그*케찹\\n씨리얼\\n바나나\\n우유 또는 두유\\n710kcal/26g ',\n",
       "  ' 잡곡밥(쌀:국내산)\\n청양초된장찌개\\n(대두:외국산)\\n돈육콩나물불고기\\n(돈육:국내산)\\n파전/해물파전\\n김치\\n(배추:국내산/고춧가루:중국산)\\n855kcal/27g ',\n",
       "  ' 쌀밥(쌀:국내산)\\n동태찌개\\n(동태:러시아산/대두:외국산)\\n소불고기잡채\\n(우육:호주산)\\n온두부(대두:외국산)/볶음김치\\n(배추:국내산/고춧가루:중국산)\\n파래김*초간장\\n861kcal/36g'],\n",
       " '월요일': ['2023-01-26',\n",
       "  ' 잡곡밥(쌀:국내산)\\n감자다시마국\\n미니돈까스*케찹\\n(돈육:외국산/계육:국내산)\\n콩나물무침/들깨무나물\\n김치\\n(배추:국내산/고춧가루:중국산)\\n612kcal/27g\\n우유 또는 두유 ',\n",
       "  ' 쌀밥(쌀:국내산)\\n참치감자찌개\\n(다랑어:태평양산)\\n닭간장불고기(계육:브라질산)\\n스모크햄전&amp;케찹\\n(돈육/계육:국내산)\\n김치\\n(배추:국내산/고춧가루:중국산)\\n862kcal/26g ',\n",
       "  ' 잡곡밥(쌀:국내산)\\n콩나물국\\n오징어당면볶음\\n(오징어:페루산)\\n청포묵야채무침\\n(우육:호주산)\\n배추겉절이\\n(배추:국내산/고춧가루:중국산)\\n854kcal/26g'],\n",
       " '화요일': ['2023-01-27',\n",
       "  ' 잡곡밥(쌀:국내산)\\n북어채해장국(북어채:러시아산)\\n돈육메추리알조림\\n(돈육:국내산)\\n깻잎나물/명엽채무침\\n김치\\n(배추:국내산/고춧가루:중국산)\\n우유 또는 두유 \\n639kcal/28g ',\n",
       "  ' 차오판(대만식볶음밥)\\n(쌀/돈육:국내산)\\n양지쌀국수(양지:호주산)\\n춘권튀김\\n치커리유자청무침\\n김치\\n(배추:국내산/고춧가루:중국산)\\n871kcal/26g ',\n",
       "  ' 하이라이스\\n(쌀/돈육:국내산)\\n가쓰오장국\\n(다랑어:인도네시아)\\n치킨까스/어니언소스\\n(계육:국내산)\\n실곤약야채무침\\n미니깍두기\\n857kcal/27g'],\n",
       " '수요일': ['2023-01-28',\n",
       "  ' 모닝빵*잼\\n버섯야채죽/김치\\n(쌀/배추:국내/고춧가루:중국산)\\n참치마카로니샐러드\\n(다랑어:태평양산)\\n계란후라이1~2개씩\\n씨리얼\\n우유 또는 두유\\n709kcal/27g ',\n",
       "  ' 산채들기름볶음밥\\n(쌀:국내산)\\n시래기된장국\\n언양식불고기전\\n(돈육;국내산)\\n팽이부추겨자채\\n배추겉절이\\n(배추:국내산/고춧가루:중국산)\\n819kcal/26g ',\n",
       "  ' 쌀밥(쌀:국내산)\\n청국장찌개(대두:외국산)\\n(배추:국내산/고춧가루:중국산)\\n고등어무조림\\n(고등어:국내산)\\n야채계란말이*케찹\\n김치\\n(배추:국내산/고춧가루:중국산)\\n836kcal/31g'],\n",
       " '목요일': [],\n",
       " '금요일': [],\n",
       " '토요일': []}"
      ]
     },
     "execution_count": 117,
     "metadata": {},
     "output_type": "execute_result"
    }
   ],
   "source": [
    "result"
   ]
  },
  {
   "cell_type": "code",
   "execution_count": 118,
   "metadata": {},
   "outputs": [],
   "source": [
    "########\n",
    "# 밑에는 최종 본"
   ]
  },
  {
   "cell_type": "code",
   "execution_count": 144,
   "metadata": {},
   "outputs": [],
   "source": [
    "from urllib.request import urlopen\n",
    "from bs4 import BeautifulSoup\n",
    "from datetime import datetime, timedelta, date\n",
    "\n",
    "html1 = urlopen(\"https://dorm.chungbuk.ac.kr/home/sub.php?menukey=20041&type=1\") # 본관 금주\n",
    "html2 = urlopen(\"https://dorm.chungbuk.ac.kr/home/sub.php?menukey=20041&type=2\") # 양성재 금주\n",
    "html3 = urlopen(\"https://dorm.chungbuk.ac.kr/home/sub.php?menukey=20041&type=3\") # 양진재 금주\n",
    "\n",
    "bsObject1 = BeautifulSoup(html1, \"html.parser\")\n",
    "bsObject2 = BeautifulSoup(html2, \"html.parser\")\n",
    "bsObject3 = BeautifulSoup(html3, \"html.parser\")\n",
    "bsObject=[bsObject1,bsObject2,bsObject3]\n",
    "\n",
    "\n",
    "now = datetime.now() #현재\n",
    "after_one_week = now + timedelta(weeks=1) # 1주 후\n",
    "\n",
    "next_url1 = \"https://dorm.chungbuk.ac.kr/home/sub.php?menukey=20041&cur_day=\" + str(after_one_week.date()) + \"&type=1\"\n",
    "next_url2 = \"https://dorm.chungbuk.ac.kr/home/sub.php?menukey=20041&cur_day=\" + str(after_one_week.date()) + \"&type=2\"\n",
    "next_url3 = \"https://dorm.chungbuk.ac.kr/home/sub.php?menukey=20041&cur_day=\" + str(after_one_week.date()) + \"&type=3\"\n",
    "\n",
    "next_html1 = urlopen(next_url1) # 본관 차주\n",
    "next_html2 = urlopen(next_url2) # 양성재 차주\n",
    "next_html3 = urlopen(next_url3) # 양진재 차주\n",
    "\n",
    "next_bsObject1 = BeautifulSoup(next_html1, \"html.parser\")\n",
    "next_bsObject2 = BeautifulSoup(next_html2, \"html.parser\")\n",
    "next_bsObject3 = BeautifulSoup(next_html3, \"html.parser\")\n",
    "next_bsObject =[next_bsObject1, next_bsObject2, next_bsObject3]\n",
    "\n",
    "\n",
    "def make_date_list(bsObject): # 날짜 리스트 만들기\n",
    "    foodday = bsObject.findAll('td', {'class':{'foodday'}}) # 날짜 및 요일\n",
    "    date=[]\n",
    "    for day in foodday:\n",
    "        temp = list(map(str,day.text.split()))\n",
    "        date.append(temp[1])\n",
    "    return date\n",
    "\n",
    "def make_day_list_matches_date(date_list): # 요일 리스트 만들기\n",
    "        \n",
    "    split_date_list=[] # '-' 기준으로 split\n",
    "    for element in date_list:\n",
    "        temp = list(map(int,element.split('-')))\n",
    "        split_date_list.append(temp)\n",
    "    \n",
    "    days=['월요일', '화요일', '수요일', '목요일', '금요일', '토요일', '일요일'] \n",
    "    result=[]\n",
    "    for element in split_date_list: # 요일 알아낸다.\n",
    "        result.append(days[date(element[0],element[1],element[2]).weekday()])\n",
    "    return result\n",
    "\n",
    "def make_morning_list(bsObject): # 각 요일별 아침 리스트 만들기\n",
    "    morning = bsObject.findAll('td', {'class':{'morning'}}) \n",
    "    morning_list =[]\n",
    "    for meal in morning:\n",
    "        morning_list.append(meal.text)\n",
    "    return morning_list\n",
    "\n",
    "def make_lunch_list(bsObject): # 각 요일별 점심 리스트 만들기\n",
    "    lunch = bsObject.findAll('td', {'class':{'lunch'}}) \n",
    "    lunch_list =[]\n",
    "    for meal in lunch:\n",
    "        lunch_list.append(meal.text)\n",
    "    return lunch_list\n",
    "\n",
    "def make_evening_list(bsObject): # 각 요일별 저녁 리스트 만들기\n",
    "    evening = bsObject.findAll('td', {'class':{'evening'}})\n",
    "    evening_list =[]\n",
    "    for meal in evening:\n",
    "        evening_list.append(meal.text)\n",
    "    return evening_list\n",
    "\n",
    "def merge_day_meal(date_list, morning_list, lunch_list, evening_list): # 각 요일별 식단 리스트 병합\n",
    "    day_meal = [[],[],[],[],[],[],[]]\n",
    "    for i in range(len(date_list)):\n",
    "        day_meal[i].append(date_list[i])\n",
    "        day_meal[i].append(morning_list[i])\n",
    "        day_meal[i].append(lunch_list[i])\n",
    "        day_meal[i].append(evening_list[i])\n",
    "    return day_meal\n",
    "    \n",
    "def get_weak_meal(day_list, day_meal):  # 주간 식단표 딕셔너리 만들기\n",
    "    weak_meal=dict(zip(day_list,day_meal))\n",
    "    return weak_meal\n",
    "\n",
    "this_week=[]\n",
    "next_week=[]\n",
    "\n",
    "for i in range(3):\n",
    "    date_list = make_date_list(bsObject[i])\n",
    "    day_list = make_day_list_matches_date(date_list)\n",
    "    morning_list=make_morning_list(bsObject[i])\n",
    "    lunch_list = make_lunch_list(bsObject[i])\n",
    "    evening_list=make_evening_list(bsObject[i])\n",
    "    day_meal = merge_day_meal(date_list,morning_list,lunch_list,evening_list)\n",
    "    weak_meal=get_weak_meal(day_list,day_meal)\n",
    "    this_week.append(weak_meal)\n",
    "    \n",
    "    date_list = make_date_list(next_bsObject[i])\n",
    "    day_list = make_day_list_matches_date(date_list)\n",
    "    morning_list=make_morning_list(next_bsObject[i])\n",
    "    lunch_list = make_lunch_list(next_bsObject[i])\n",
    "    evening_list=make_evening_list(next_bsObject[i])\n",
    "    day_meal = merge_day_meal(date_list,morning_list,lunch_list,evening_list)\n",
    "    weak_meal=get_weak_meal(day_list,day_meal)\n",
    "    next_week.append(weak_meal)\n"
   ]
  },
  {
   "cell_type": "code",
   "execution_count": 1,
   "metadata": {},
   "outputs": [
    {
     "data": {
      "text/plain": [
       "<firebase_admin.App at 0x26092566650>"
      ]
     },
     "execution_count": 1,
     "metadata": {},
     "output_type": "execute_result"
    }
   ],
   "source": [
    "import firebase_admin\n",
    "from firebase_admin import credentials\n",
    "from firebase_admin import db\n",
    "\n",
    "cred = credentials.Certificate(\"../mykey.json\")\n",
    "firebase_admin.initialize_app(cred,{'databaseURL':'https://bab-db-3ebb8-default-rtdb.firebaseio.com/'})"
   ]
  },
  {
   "cell_type": "code",
   "execution_count": 155,
   "metadata": {},
   "outputs": [],
   "source": [
    "main_building_this_week = db.reference('기숙사/본관/금주')\n",
    "main_building_this_week.update(this_week[0])\n",
    "main_building_next_week = db.reference('기숙사/본관/차주')\n",
    "main_building_next_week.update(next_week[0])\n",
    "\n",
    "yangsungjae_this_week = db.reference('기숙사/양성재/금주')\n",
    "yangsungjae_this_week.update(this_week[1])\n",
    "yangsungjae_next_week = db.reference('기숙사/양성재/차주')\n",
    "yangsungjae_next_week.update(next_week[1])\n",
    "\n",
    "yangjinjae_this_week = db.reference('기숙사/양진재/금주')\n",
    "yangjinjae_this_week.update(this_week[2])\n",
    "yangjinjae_next_week = db.reference('기숙사/양진재/차주')\n",
    "yangjinjae_next_week.update(next_week[2])"
   ]
  }
 ],
 "metadata": {
  "kernelspec": {
   "display_name": "Python 3",
   "language": "python",
   "name": "python3"
  },
  "language_info": {
   "codemirror_mode": {
    "name": "ipython",
    "version": 3
   },
   "file_extension": ".py",
   "mimetype": "text/x-python",
   "name": "python",
   "nbconvert_exporter": "python",
   "pygments_lexer": "ipython3",
   "version": "3.10.5 (tags/v3.10.5:f377153, Jun  6 2022, 16:14:13) [MSC v.1929 64 bit (AMD64)]"
  },
  "orig_nbformat": 4,
  "vscode": {
   "interpreter": {
    "hash": "88f5a4554b5a9ef949b5de2ca977b5a4bd361180c5b30f32147c76c2c5bcf452"
   }
  }
 },
 "nbformat": 4,
 "nbformat_minor": 2
}

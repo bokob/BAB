{
 "cells": [
  {
   "cell_type": "code",
   "execution_count": 2,
   "metadata": {},
   "outputs": [],
   "source": [
    "from urllib.request import urlopen\n",
    "from bs4 import BeautifulSoup\n",
    "# from datetime import datetime, timedelta, date\n",
    "from datetime import datetime, timedelta, date\n",
    "import calendar\n",
    "\n",
    "html = urlopen(\"https://www.cbnucoop.com/service/restaurant/\")\n",
    "\n",
    "bsObject = BeautifulSoup(html, \"html.parser\")"
   ]
  },
  {
   "cell_type": "code",
   "execution_count": 3,
   "metadata": {},
   "outputs": [],
   "source": [
    "def make_week_time_meal_list(bsObject, id_front):\n",
    "    time_meal_list =[]\n",
    "    for i in range(5):\n",
    "        id = id_front + str(i)\n",
    "        target = bsObject.findAll('div', {'data-table':{id}}) \n",
    "        for txt in target:\n",
    "            time_meal_list.append({i:txt.text})\n",
    "    return time_meal_list"
   ]
  },
  {
   "cell_type": "code",
   "execution_count": 4,
   "metadata": {},
   "outputs": [],
   "source": [
    "hanbit_brunch=make_week_time_meal_list(bsObject,'18-9-17-')\n",
    "hanbit_lunch=make_week_time_meal_list(bsObject,'18-8-16-')\n",
    "hanbit_dinner=make_week_time_meal_list(bsObject,'18-10-18-')\n",
    "\n",
    "star_light_lunch=make_week_time_meal_list(bsObject,'19-7-14-')\n",
    "\n",
    "milkyway_lunch=make_week_time_meal_list(bsObject,'20-6-12-')\n",
    "milkyway_dinner=make_week_time_meal_list(bsObject,'20-13-25-')\n",
    "\n"
   ]
  },
  {
   "cell_type": "code",
   "execution_count": 5,
   "metadata": {},
   "outputs": [
    {
     "name": "stdout",
     "output_type": "stream",
     "text": [
      "[{0: '\\n\\n짜장덮밥\\n\\n배추김치\\n계란후라이\\n미소장국\\n\\n                    ￦3300\\n\\n\\n'}, {1: '\\n\\n참치마요주먹밥\\n\\n깍두기\\n계란후라이\\n볶음김치\\n미소장국\\n\\n                    ￦3300\\n\\n\\n'}, {2: '\\n\\n소보로비빔밥\\n\\n깍두기\\n미소장국\\n\\n                    ￦3300\\n\\n\\n'}, {3: '\\n\\n참치김치볶음덮밥\\n\\n깍두기\\n계란후라이\\n미소장국\\n\\n                    ￦3300\\n\\n\\n'}, {4: '\\n\\n마파두부덮밥\\n\\n배추김치\\n계란후라이\\n미소장국\\n\\n                    ￦3300\\n\\n\\n'}] \n",
      "\n",
      "[{0: '\\n\\n바지락칼국수\\n\\n배추김치\\n김치전\\n쌀밥\\n\\n                    ￦4900\\n                    \\n                        ￦4700(조합원)\\n                    \\n                \\n\\n'}, {1: '\\n\\n돈등뼈감자탕\\n\\n깍두기\\n애배추겉절이\\n쌀밥\\n\\n                    ￦4900\\n                    \\n                        ￦4700(조합원)\\n                    \\n                \\n\\n'}, {2: '\\n\\n돼지고기김치찌개\\n\\n깍두기\\n계란후라이\\n쌀밥\\n도시락김\\n\\n                    ￦4900\\n                    \\n                        ￦4700(조합원)\\n                    \\n                \\n\\n'}, {3: '\\n\\n돈가스우동\\n\\n배추김치\\n쌀밥\\n메추리알샐러드\\n\\n                    ￦4900\\n                    \\n                        ￦4700(조합원)\\n                    \\n                \\n\\n'}, {4: '\\n\\n돼지쌀국수\\n\\n배추김치\\n쌀밥\\n춘권튀김/초간장\\n\\n                    ￦4900\\n                    \\n                        ￦4700(조합원)\\n                    \\n                \\n\\n'}] \n",
      "\n",
      "[{0: '\\n\\n파채불고기\\n\\n깍두기\\n시원김치국\\n샐러드푸실리\\n\\n                    ￦4900\\n                    \\n                        ￦4700(조합원)\\n                    \\n                \\n\\n'}, {1: '\\n\\n햄김치덮밥\\n\\n어묵무국\\n깍두기\\n요구르트\\n계란후라이\\n\\n                    ￦4900\\n                    \\n                        ￦4700(조합원)\\n                    \\n                \\n\\n'}, {2: '\\n\\n고기잔치국수\\n\\n배추김치\\n무생채\\n쌀밥\\n\\n                    ￦4900\\n                    \\n                        ￦4700(조합원)\\n                    \\n                \\n\\n'}, {3: '\\n\\n제육덮밥\\n\\n깍두기\\n미역국\\n비엔나야채볶음\\n\\n                    ￦4900\\n                    \\n                        ￦4700(조합원)\\n                    \\n                \\n\\n'}] \n",
      "\n",
      "[{0: '\\n\\n돈가스/소스\\n\\n깍두기\\n양배추샐러드(화이트소스)\\n요구르트\\n비빔국수\\n브로컬리크림스프\\n\\n                    ￦5800\\n                    \\n                        ￦5400(조합원)\\n                    \\n                \\n\\n'}, {1: '\\n\\n매콤치즈닭볶음\\n\\n어묵무국\\n숙주부추무침(참깨소스)\\n배추김치\\n요구르트\\n오꼬노미야끼\\n\\n                    ￦5800\\n                    \\n                        ￦5400(조합원)\\n                    \\n                \\n\\n'}, {2: '\\n\\n돈갈비찜\\n\\n깍두기\\n요구르트\\n참치김치찌개\\n셀러리겉절이\\n고구마&만두튀김/초간장\\n\\n                    ￦5800\\n                    \\n                        ￦5400(조합원)\\n                    \\n                \\n\\n'}, {3: '\\n\\n수제탕수육\\n\\n배추김치\\n콩나물국\\n요구르트\\n도토리묵야채무침\\n로제떡볶이\\n\\n                    ￦5800\\n                    \\n                        ￦5400(조합원)\\n                    \\n                \\n\\n'}, {4: '\\n\\n폭찹스테이크\\n\\n배추김치\\n요구르트\\n배추된장국\\n수제양배추무피클\\n미트볼토마토스파게티\\n\\n                    ￦5800\\n                    \\n                        ￦5400(조합원)\\n                    \\n                \\n\\n'}] \n",
      "\n",
      "[{0: '\\n\\n오징어볶음\\n\\n요구르트\\n포기김치\\n들깨미역국\\n어묵전\\n멸치땅콩볶음\\n계란야채찜\\n\\n                    ￦7000\\n                    \\n                        ￦6000(조합원)\\n                    \\n                \\n\\n'}, {1: '\\n\\n돈육큐브스테이크\\n\\n요구르트\\n포기김치\\n지고추무침\\n통배추된장국\\n유부맛살겨자무침\\n콩샐러드\\n\\n                    ￦7000\\n                    \\n                        ￦6000(조합원)\\n                    \\n                \\n\\n'}, {2: '\\n\\n콩나물밥(양념간장)\\n\\n요구르트\\n포기김치\\n무생채\\n계란파국\\n고등어무조림\\n김가루무침\\n\\n                    ￦7000\\n                    \\n                        ￦6000(조합원)\\n                    \\n                \\n\\n'}, {3: '\\n\\n닭야채볶음\\n\\n요구르트\\n포기김치\\n잡채\\n무어묵국\\n통배추나물무침\\n미역줄기볶음\\n\\n                    ￦7000\\n                    \\n                        ￦6000(조합원)\\n                    \\n                \\n\\n'}, {4: '\\n\\n표고버섯튀김&이연복소스\\n\\n콩나물국\\n요구르트\\n포기김치\\n동태무조림\\n감자조림\\n양배추쌈&쌈장\\n\\n                    ￦7000\\n                    \\n                        ￦6000(조합원)\\n                    \\n                \\n\\n'}] \n",
      "\n",
      "[] \n",
      "\n"
     ]
    }
   ],
   "source": [
    "print(hanbit_brunch,'\\n')\n",
    "print(hanbit_lunch,'\\n')\n",
    "print(hanbit_dinner,'\\n')\n",
    "print(star_light_lunch,'\\n')\n",
    "print(milkyway_lunch,'\\n')\n",
    "print(milkyway_dinner,'\\n')"
   ]
  },
  {
   "cell_type": "code",
   "execution_count": 6,
   "metadata": {},
   "outputs": [],
   "source": [
    "hanbit={'아점' : hanbit_brunch, '점심':hanbit_lunch, '석식': hanbit_dinner}\n",
    "star_light = {'점심' : star_light_lunch}\n",
    "milkyway={'점심':milkyway_lunch, '석식': milkyway_dinner}"
   ]
  },
  {
   "cell_type": "code",
   "execution_count": 8,
   "metadata": {},
   "outputs": [
    {
     "name": "stdout",
     "output_type": "stream",
     "text": [
      "{'아점': [{0: '\\n\\n짜장덮밥\\n\\n배추김치\\n계란후라이\\n미소장국\\n\\n                    ￦3300\\n\\n\\n'}, {1: '\\n\\n참치마요주먹밥\\n\\n깍두기\\n계란후라이\\n볶음김치\\n미소장국\\n\\n                    ￦3300\\n\\n\\n'}, {2: '\\n\\n소보로비빔밥\\n\\n깍두기\\n미소장국\\n\\n                    ￦3300\\n\\n\\n'}, {3: '\\n\\n참치김치볶음덮밥\\n\\n깍두기\\n계란후라이\\n미소장국\\n\\n                    ￦3300\\n\\n\\n'}, {4: '\\n\\n마파두부덮밥\\n\\n배추김치\\n계란후라이\\n미소장국\\n\\n                    ￦3300\\n\\n\\n'}], '점심': [{0: '\\n\\n바지락칼국수\\n\\n배추김치\\n김치전\\n쌀밥\\n\\n                    ￦4900\\n                    \\n                        ￦4700(조합원)\\n                    \\n                \\n\\n'}, {1: '\\n\\n돈등뼈감자탕\\n\\n깍두기\\n애배추겉절이\\n쌀밥\\n\\n                    ￦4900\\n                    \\n                        ￦4700(조합원)\\n                    \\n                \\n\\n'}, {2: '\\n\\n돼지고기김치찌개\\n\\n깍두기\\n계란후라이\\n쌀밥\\n도시락김\\n\\n                    ￦4900\\n                    \\n                        ￦4700(조합원)\\n                    \\n                \\n\\n'}, {3: '\\n\\n돈가스우동\\n\\n배추김치\\n쌀밥\\n메추리알샐러드\\n\\n                    ￦4900\\n                    \\n                        ￦4700(조합원)\\n                    \\n                \\n\\n'}, {4: '\\n\\n돼지쌀국수\\n\\n배추김치\\n쌀밥\\n춘권튀김/초간장\\n\\n                    ￦4900\\n                    \\n                        ￦4700(조합원)\\n                    \\n                \\n\\n'}], '석식': [{0: '\\n\\n파채불고기\\n\\n깍두기\\n시원김치국\\n샐러드푸실리\\n\\n                    ￦4900\\n                    \\n                        ￦4700(조합원)\\n                    \\n                \\n\\n'}, {1: '\\n\\n햄김치덮밥\\n\\n어묵무국\\n깍두기\\n요구르트\\n계란후라이\\n\\n                    ￦4900\\n                    \\n                        ￦4700(조합원)\\n                    \\n                \\n\\n'}, {2: '\\n\\n고기잔치국수\\n\\n배추김치\\n무생채\\n쌀밥\\n\\n                    ￦4900\\n                    \\n                        ￦4700(조합원)\\n                    \\n                \\n\\n'}, {3: '\\n\\n제육덮밥\\n\\n깍두기\\n미역국\\n비엔나야채볶음\\n\\n                    ￦4900\\n                    \\n                        ￦4700(조합원)\\n                    \\n                \\n\\n'}]}\n"
     ]
    }
   ],
   "source": [
    "print(hanbit)"
   ]
  },
  {
   "cell_type": "code",
   "execution_count": 45,
   "metadata": {},
   "outputs": [
    {
     "data": {
      "text/plain": [
       "<firebase_admin.App at 0x208492aa8c0>"
      ]
     },
     "execution_count": 45,
     "metadata": {},
     "output_type": "execute_result"
    }
   ],
   "source": [
    "import firebase_admin\n",
    "from firebase_admin import credentials\n",
    "from firebase_admin import db\n",
    "\n",
    "cred = credentials.Certificate(\"../mykey.json\")\n",
    "firebase_admin.initialize_app(cred,{'databaseURL':'https://bab-db-3ebb8-default-rtdb.firebaseio.com/'})"
   ]
  },
  {
   "cell_type": "code",
   "execution_count": 61,
   "metadata": {},
   "outputs": [],
   "source": [
    "hanbit_this_week = db.reference('학생식당/한빛')\n",
    "hanbit_this_week.update(hanbit)\n",
    "\n",
    "star_light_this_week = db.reference('학생식당/별빛')\n",
    "star_light_this_week.update(star_light)\n",
    "\n",
    "milkyway_this_week = db.reference('학생식당/은하수')\n",
    "milkyway_this_week.update(milkyway)"
   ]
  },
  {
   "cell_type": "code",
   "execution_count": 1,
   "metadata": {},
   "outputs": [],
   "source": [
    "from urllib.request import urlopen\n",
    "from bs4 import BeautifulSoup\n",
    "# from datetime import datetime, timedelta, date\n",
    "from datetime import datetime, timedelta, date\n",
    "import calendar\n",
    "\n",
    "html = urlopen(\"https://www.cbnucoop.com/service/restaurant/\")\n",
    "\n",
    "bsObject = BeautifulSoup(html, \"html.parser\")\n",
    "\n",
    "def make_week_time_meal_list(bsObject, id_front):\n",
    "    time_meal_list =[]\n",
    "    for i in range(5):\n",
    "        id = id_front + str(i)\n",
    "        target = bsObject.findAll('div', {'data-table':{id}}) \n",
    "        for txt in target:\n",
    "            time_meal_list.append({i:txt.text})\n",
    "    return time_meal_list\n",
    "\n",
    "hanbit_brunch=make_week_time_meal_list(bsObject,'18-9-17-')\n",
    "hanbit_lunch=make_week_time_meal_list(bsObject,'18-8-16-')\n",
    "hanbit_dinner=make_week_time_meal_list(bsObject,'18-10-18-')\n",
    "\n",
    "star_light_lunch=make_week_time_meal_list(bsObject,'19-7-14-')\n",
    "\n",
    "milkyway_lunch=make_week_time_meal_list(bsObject,'20-6-12-')\n",
    "milkyway_dinner=make_week_time_meal_list(bsObject,'20-13-25-')\n",
    "\n",
    "hanbit={'아점' : hanbit_brunch, '점심':hanbit_lunch, '석식': hanbit_dinner}\n",
    "star_light = {'점심' : star_light_lunch}\n",
    "milkyway={'점심':milkyway_lunch, '석식': milkyway_dinner}\n",
    "\n",
    "import firebase_admin\n",
    "from firebase_admin import credentials\n",
    "from firebase_admin import db\n",
    "\n",
    "cred = credentials.Certificate(\"../mykey.json\")\n",
    "firebase_admin.initialize_app(cred,{'databaseURL':'https://bab-db-3ebb8-default-rtdb.firebaseio.com/'})\n",
    "\n",
    "hanbit_this_week = db.reference('학생식당/한빛')\n",
    "hanbit_this_week.update(hanbit)\n",
    "\n",
    "star_light_this_week = db.reference('학생식당/별빛')\n",
    "star_light_this_week.update(star_light)\n",
    "\n",
    "milkyway_this_week = db.reference('학생식당/은하수')\n",
    "milkyway_this_week.update(milkyway)"
   ]
  },
  {
   "cell_type": "code",
   "execution_count": null,
   "metadata": {},
   "outputs": [],
   "source": []
  }
 ],
 "metadata": {
  "kernelspec": {
   "display_name": "Python 3",
   "language": "python",
   "name": "python3"
  },
  "language_info": {
   "codemirror_mode": {
    "name": "ipython",
    "version": 3
   },
   "file_extension": ".py",
   "mimetype": "text/x-python",
   "name": "python",
   "nbconvert_exporter": "python",
   "pygments_lexer": "ipython3",
   "version": "3.10.5 (tags/v3.10.5:f377153, Jun  6 2022, 16:14:13) [MSC v.1929 64 bit (AMD64)]"
  },
  "orig_nbformat": 4,
  "vscode": {
   "interpreter": {
    "hash": "88f5a4554b5a9ef949b5de2ca977b5a4bd361180c5b30f32147c76c2c5bcf452"
   }
  }
 },
 "nbformat": 4,
 "nbformat_minor": 2
}

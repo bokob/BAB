{
 "cells": [
  {
   "cell_type": "code",
   "execution_count": 39,
   "metadata": {},
   "outputs": [],
   "source": [
    "from urllib.request import urlopen\n",
    "from bs4 import BeautifulSoup\n",
    "# from datetime import datetime, timedelta, date\n",
    "from datetime import datetime, timedelta, date\n",
    "import calendar\n",
    "\n",
    "html = urlopen(\"https://www.cbnucoop.com/service/restaurant/\")\n",
    "\n",
    "bsObject = BeautifulSoup(html, \"html.parser\")"
   ]
  },
  {
   "cell_type": "code",
   "execution_count": 38,
   "metadata": {},
   "outputs": [],
   "source": [
    "def make_week_time_meal_list(bsObject, id_front):\n",
    "    time_meal_list =[]\n",
    "    for i in range(5):\n",
    "        id = id_front + str(i)\n",
    "        target = bsObject.findAll('div', {'data-table':{id}}) \n",
    "        for txt in target:\n",
    "            time_meal_list.append({i:txt.text})\n",
    "    return time_meal_list"
   ]
  },
  {
   "cell_type": "code",
   "execution_count": 55,
   "metadata": {},
   "outputs": [],
   "source": [
    "hanbit_brunch=make_week_time_meal_list(bsObject,'18-9-17-')\n",
    "hanbit_lunch=make_week_time_meal_list(bsObject,'18-8-16-')\n",
    "hanbit_dinner=make_week_time_meal_list(bsObject,'18-10-18-')\n",
    "\n",
    "star_light_lunch=make_week_time_meal_list(bsObject,'19-7-14-')\n",
    "\n",
    "milkyway_lunch=make_week_time_meal_list(bsObject,'20-6-12-')\n",
    "milkyway_dinner=make_week_time_meal_list(bsObject,'20-13-25-')\n",
    "\n"
   ]
  },
  {
   "cell_type": "code",
   "execution_count": 56,
   "metadata": {},
   "outputs": [
    {
     "name": "stdout",
     "output_type": "stream",
     "text": [
      "[{2: '\\n\\n카레라이스\\n\\n배추김치\\n계란후라이\\n미소장국\\n\\n                    ￦3300\\n\\n\\n'}, {3: '\\n\\n참치마요주먹밥\\n\\n깍두기\\n계란후라이\\n볶음김치\\n미소장국\\n\\n                    ￦3300\\n\\n\\n'}, {4: '\\n\\n김밥볶음밥\\n\\n배추김치\\n계란후라이\\n미소장국\\n\\n                    ￦3300\\n\\n\\n'}] \n",
      "\n",
      "[{2: '\\n\\n부대찌개\\n\\n깍두기\\n계란후라이\\n어묵볶음\\n쌀밥\\n\\n                    ￦4900\\n                    \\n                        ￦4700(조합원)\\n                    \\n                \\n\\n'}, {3: '\\n\\n김치닭도리탕\\n\\n깍두기\\n팽이무국\\n쌀밥\\n두부조림\\n\\n                    ￦4900\\n                    \\n                        ￦4700(조합원)\\n                    \\n                \\n\\n'}, {4: '\\n\\n가츠동\\n\\n깍두기\\n요구르트\\n시원김치국\\n\\n                    ￦4900\\n                    \\n                        ￦4700(조합원)\\n                    \\n                \\n\\n'}] \n",
      "\n",
      "[{2: '\\n\\n짜장면\\n\\n배추김치\\n쌀밥\\n미소장국\\n메추리알샐러드\\n\\n                    ￦4900\\n                    \\n                        ￦4700(조합원)\\n                    \\n                \\n\\n'}, {3: '\\n\\n오므라이스\\n\\n배추김치\\n미역국\\n교자만두튀김/초간장\\n\\n                    ￦4900\\n                    \\n                        ￦4700(조합원)\\n                    \\n                \\n\\n'}] \n",
      "\n",
      "[{2: '\\n\\n김치눈꽃치즈함박스테이크\\n\\n깍두기\\n요구르트\\n콩나물무침\\n배추된장국\\n해물볶음우동\\n\\n                    ￦5800\\n                    \\n                        ￦5400(조합원)\\n                    \\n                \\n\\n'}, {3: '\\n\\n닭강정\\n\\n배추김치\\n요구르트\\n계란파국\\n양상추샐러드/검은깨드레싱\\n마파두부\\n\\n                    ￦5800\\n                    \\n                        ￦5400(조합원)\\n                    \\n                \\n\\n'}, {4: '\\n\\n제육볶음\\n\\n배추김치\\n요구르트\\n무생채\\n들깨미역국\\n잡채\\n\\n                    ￦5800\\n                    \\n                        ￦5400(조합원)\\n                    \\n                \\n\\n'}] \n",
      "\n",
      "[{2: '\\n\\n돈육주물럭\\n\\n콩나물국\\n요구르트\\n포기김치\\n지고추무침\\n양배추쌈&쌈장\\n계란야채찜\\n\\n                    ￦7000\\n                    \\n                        ￦6000(조합원)\\n                    \\n                \\n\\n'}, {3: '\\n\\n간장치킨\\n\\n요구르트\\n포기김치\\n감자조림\\n계란파국\\n애배추겉절이\\n무초절이\\n\\n                    ￦7000\\n                    \\n                        ￦6000(조합원)\\n                    \\n                \\n\\n'}, {4: '\\n\\n오징어야채무침\\n\\n요구르트\\n포기김치\\n콩나물무침\\n통배추된장국\\n자장면/자장소스\\n단무지무침\\n\\n                    ￦7000\\n                    \\n                        ￦6000(조합원)\\n                    \\n                \\n\\n'}] \n",
      "\n",
      "[] \n",
      "\n"
     ]
    }
   ],
   "source": [
    "print(hanbit_brunch,'\\n')\n",
    "print(hanbit_lunch,'\\n')\n",
    "print(hanbit_dinner,'\\n')\n",
    "print(star_light_lunch,'\\n')\n",
    "print(milkyway_lunch,'\\n')\n",
    "print(milkyway_dinner,'\\n')"
   ]
  },
  {
   "cell_type": "code",
   "execution_count": 57,
   "metadata": {},
   "outputs": [],
   "source": [
    "hanbit={'아점' : hanbit_brunch, '점심':hanbit_lunch, '석식': hanbit_dinner}\n",
    "star_light = {'점심' : star_light_lunch}\n",
    "milkyway={'점심':milkyway_lunch, '석식': milkyway_dinner}"
   ]
  },
  {
   "cell_type": "code",
   "execution_count": 58,
   "metadata": {},
   "outputs": [
    {
     "name": "stdout",
     "output_type": "stream",
     "text": [
      "{'점심': [{2: '\\n\\n돈육주물럭\\n\\n콩나물국\\n요구르트\\n포기김치\\n지고추무침\\n양배추쌈&쌈장\\n계란야채찜\\n\\n                    ￦7000\\n                    \\n                        ￦6000(조합원)\\n                    \\n                \\n\\n'}, {3: '\\n\\n간장치킨\\n\\n요구르트\\n포기김치\\n감자조림\\n계란파국\\n애배추겉절이\\n무초절이\\n\\n                    ￦7000\\n                    \\n                        ￦6000(조합원)\\n                    \\n                \\n\\n'}, {4: '\\n\\n오징어야채무침\\n\\n요구르트\\n포기김치\\n콩나물무침\\n통배추된장국\\n자장면/자장소스\\n단무지무침\\n\\n                    ￦7000\\n                    \\n                        ￦6000(조합원)\\n                    \\n                \\n\\n'}], '석식': []}\n"
     ]
    }
   ],
   "source": [
    "print(milkyway)"
   ]
  },
  {
   "cell_type": "code",
   "execution_count": 45,
   "metadata": {},
   "outputs": [
    {
     "data": {
      "text/plain": [
       "<firebase_admin.App at 0x208492aa8c0>"
      ]
     },
     "execution_count": 45,
     "metadata": {},
     "output_type": "execute_result"
    }
   ],
   "source": [
    "import firebase_admin\n",
    "from firebase_admin import credentials\n",
    "from firebase_admin import db\n",
    "\n",
    "cred = credentials.Certificate(\"../mykey.json\")\n",
    "firebase_admin.initialize_app(cred,{'databaseURL':'https://bab-db-3ebb8-default-rtdb.firebaseio.com/'})"
   ]
  },
  {
   "cell_type": "code",
   "execution_count": 61,
   "metadata": {},
   "outputs": [],
   "source": [
    "hanbit_this_week = db.reference('학생식당/한빛')\n",
    "hanbit_this_week.update(hanbit)\n",
    "\n",
    "star_light_this_week = db.reference('학생식당/별빛')\n",
    "star_light_this_week.update(star_light)\n",
    "\n",
    "milkyway_this_week = db.reference('학생식당/은하수')\n",
    "milkyway_this_week.update(milkyway)"
   ]
  },
  {
   "cell_type": "code",
   "execution_count": null,
   "metadata": {},
   "outputs": [],
   "source": [
    "from urllib.request import urlopen\n",
    "from bs4 import BeautifulSoup\n",
    "# from datetime import datetime, timedelta, date\n",
    "from datetime import datetime, timedelta, date\n",
    "import calendar\n",
    "\n",
    "html = urlopen(\"https://www.cbnucoop.com/service/restaurant/\")\n",
    "\n",
    "bsObject = BeautifulSoup(html, \"html.parser\")\n",
    "\n",
    "def make_week_time_meal_list(bsObject, id_front):\n",
    "    time_meal_list =[]\n",
    "    for i in range(5):\n",
    "        id = id_front + str(i)\n",
    "        target = bsObject.findAll('div', {'data-table':{id}}) \n",
    "        for txt in target:\n",
    "            time_meal_list.append({i:txt.text})\n",
    "    return time_meal_list\n",
    "\n",
    "hanbit_brunch=make_week_time_meal_list(bsObject,'18-9-17-')\n",
    "hanbit_lunch=make_week_time_meal_list(bsObject,'18-8-16-')\n",
    "hanbit_dinner=make_week_time_meal_list(bsObject,'18-10-18-')\n",
    "\n",
    "star_light_lunch=make_week_time_meal_list(bsObject,'19-7-14-')\n",
    "\n",
    "milkyway_lunch=make_week_time_meal_list(bsObject,'20-6-12-')\n",
    "milkyway_dinner=make_week_time_meal_list(bsObject,'20-13-25-')\n",
    "\n",
    "hanbit={'아점' : hanbit_brunch, '점심':hanbit_lunch, '석식': hanbit_dinner}\n",
    "star_light = {'점심' : star_light_lunch}\n",
    "milkyway={'점심':milkyway_lunch, '석식': milkyway_dinner}\n",
    "\n",
    "import firebase_admin\n",
    "from firebase_admin import credentials\n",
    "from firebase_admin import db\n",
    "\n",
    "cred = credentials.Certificate(\"../mykey.json\")\n",
    "firebase_admin.initialize_app(cred,{'databaseURL':'https://bab-db-3ebb8-default-rtdb.firebaseio.com/'})\n",
    "\n",
    "hanbit_this_week = db.reference('학생식당/한빛')\n",
    "hanbit_this_week.update(hanbit)\n",
    "\n",
    "star_light_this_week = db.reference('학생식당/별빛')\n",
    "star_light_this_week.update(star_light)\n",
    "\n",
    "milkyway_this_week = db.reference('학생식당/은하수')\n",
    "milkyway_this_week.update(milkyway)"
   ]
  }
 ],
 "metadata": {
  "kernelspec": {
   "display_name": "Python 3",
   "language": "python",
   "name": "python3"
  },
  "language_info": {
   "codemirror_mode": {
    "name": "ipython",
    "version": 3
   },
   "file_extension": ".py",
   "mimetype": "text/x-python",
   "name": "python",
   "nbconvert_exporter": "python",
   "pygments_lexer": "ipython3",
   "version": "3.10.5 (tags/v3.10.5:f377153, Jun  6 2022, 16:14:13) [MSC v.1929 64 bit (AMD64)]"
  },
  "orig_nbformat": 4,
  "vscode": {
   "interpreter": {
    "hash": "88f5a4554b5a9ef949b5de2ca977b5a4bd361180c5b30f32147c76c2c5bcf452"
   }
  }
 },
 "nbformat": 4,
 "nbformat_minor": 2
}

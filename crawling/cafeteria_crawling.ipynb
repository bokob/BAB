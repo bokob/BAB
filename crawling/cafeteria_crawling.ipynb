{
 "cells": [
  {
   "cell_type": "code",
   "execution_count": 1,
   "metadata": {},
   "outputs": [],
   "source": [
    "from urllib.request import urlopen\n",
    "from bs4 import BeautifulSoup\n",
    "import datetime"
   ]
  },
  {
   "cell_type": "code",
   "execution_count": 2,
   "metadata": {},
   "outputs": [],
   "source": [
    "html = urlopen(\"https://www.cbnucoop.com/service/restaurant/\")\n",
    "\n",
    "bsObject = BeautifulSoup(html, \"html.parser\")"
   ]
  },
  {
   "cell_type": "code",
   "execution_count": 14,
   "metadata": {},
   "outputs": [
    {
     "data": {
      "text/plain": [
       "[<div class=\"tab-pane in active\" id=\"tab1\">\n",
       " <!--                <h4 class=\"mt-3\">한빛식당</h4>-->\n",
       " <div class=\"table-responsive mb-4\" id=\"menu-table\">\n",
       " <table class=\"table\">\n",
       " <thead>\n",
       " <!--                            <tr>-->\n",
       " <!--                                <th rowspan=\"2\">코너</th>-->\n",
       " <!--                                <th rowspan=\"2\">구분</th>-->\n",
       " <!--                                <th colspan=\"5\">날짜</th>-->\n",
       " <!--                            </tr>-->\n",
       " <tr>\n",
       " <th class=\"weekday-title\">01.23(월요일)</th>\n",
       " <th class=\"weekday-title\">01.24(화요일)</th>\n",
       " <th class=\"weekday-title\">01.25(수요일)</th>\n",
       " <th class=\"weekday-title\">01.26(목요일)</th>\n",
       " <th class=\"weekday-title\">01.27(금요일)</th>\n",
       " </tr>\n",
       " </thead>\n",
       " <tbody>\n",
       " <tr>\n",
       " <th class=\"row-time\" colspan=\"5\">아점코너 (오전 10:00 ~ 오후 1:00)</th>\n",
       " </tr><tr>\n",
       " <th rowspan=\"1\" style=\"display:none;\">아점</th>\n",
       " <th style=\"display:none;\">아점코너</th>\n",
       " <th class=\"row-label\">한빛식당 아점 아점코너</th>\n",
       " <td id=\"table-18-9-17-0\"></td>\n",
       " <td id=\"table-18-9-17-1\"></td>\n",
       " <td id=\"table-18-9-17-2\"></td>\n",
       " <td id=\"table-18-9-17-3\"></td>\n",
       " <td id=\"table-18-9-17-4\"></td>\n",
       " </tr>\n",
       " <tr>\n",
       " <th class=\"row-time\" colspan=\"5\">점심식사 (오전 11:00 ~ 오후 2:00)</th>\n",
       " </tr><tr>\n",
       " <th rowspan=\"1\" style=\"display:none;\">일품</th>\n",
       " <th style=\"display:none;\">점심식사</th>\n",
       " <th class=\"row-label\">한빛식당 일품 점심식사</th>\n",
       " <td id=\"table-18-8-16-0\"></td>\n",
       " <td id=\"table-18-8-16-1\"></td>\n",
       " <td id=\"table-18-8-16-2\"></td>\n",
       " <td id=\"table-18-8-16-3\"></td>\n",
       " <td id=\"table-18-8-16-4\"></td>\n",
       " </tr>\n",
       " <tr>\n",
       " <th class=\"row-time\" colspan=\"5\">석식코너 (오후 4:30 ~ 오후 6:30)</th>\n",
       " </tr><tr>\n",
       " <th rowspan=\"1\" style=\"display:none;\">석식</th>\n",
       " <th style=\"display:none;\">석식코너</th>\n",
       " <th class=\"row-label\">한빛식당 석식 석식코너</th>\n",
       " <td id=\"table-18-10-18-0\"></td>\n",
       " <td id=\"table-18-10-18-1\"></td>\n",
       " <td id=\"table-18-10-18-2\"></td>\n",
       " <td id=\"table-18-10-18-3\"></td>\n",
       " <td id=\"table-18-10-18-4\"></td>\n",
       " </tr>\n",
       " </tbody>\n",
       " </table>\n",
       " </div>\n",
       " </div>]"
      ]
     },
     "execution_count": 14,
     "metadata": {},
     "output_type": "execute_result"
    }
   ],
   "source": [
    "bsObject.findAll(id='tab1').tbody"
   ]
  },
  {
   "cell_type": "code",
   "execution_count": null,
   "metadata": {},
   "outputs": [],
   "source": []
  }
 ],
 "metadata": {
  "kernelspec": {
   "display_name": "Python 3",
   "language": "python",
   "name": "python3"
  },
  "language_info": {
   "codemirror_mode": {
    "name": "ipython",
    "version": 3
   },
   "file_extension": ".py",
   "mimetype": "text/x-python",
   "name": "python",
   "nbconvert_exporter": "python",
   "pygments_lexer": "ipython3",
   "version": "3.10.5"
  },
  "orig_nbformat": 4,
  "vscode": {
   "interpreter": {
    "hash": "88f5a4554b5a9ef949b5de2ca977b5a4bd361180c5b30f32147c76c2c5bcf452"
   }
  }
 },
 "nbformat": 4,
 "nbformat_minor": 2
}
